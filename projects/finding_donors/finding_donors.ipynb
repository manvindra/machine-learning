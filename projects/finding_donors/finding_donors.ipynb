{
 "cells": [
  {
   "cell_type": "markdown",
   "metadata": {},
   "source": [
    "# Machine Learning Engineer Nanodegree\n",
    "## Supervised Learning\n",
    "## Project: Finding Donors for *CharityML*"
   ]
  },
  {
   "cell_type": "markdown",
   "metadata": {},
   "source": [
    "Welcome to the second project of the Machine Learning Engineer Nanodegree! In this notebook, some template code has already been provided for you, and it will be your job to implement the additional functionality necessary to successfully complete this project. Sections that begin with **'Implementation'** in the header indicate that the following block of code will require additional functionality which you must provide. Instructions will be provided for each section and the specifics of the implementation are marked in the code block with a `'TODO'` statement. Please be sure to read the instructions carefully!\n",
    "\n",
    "In addition to implementing code, there will be questions that you must answer which relate to the project and your implementation. Each section where you will answer a question is preceded by a **'Question X'** header. Carefully read each question and provide thorough answers in the following text boxes that begin with **'Answer:'**. Your project submission will be evaluated based on your answers to each of the questions and the implementation you provide.  \n",
    "\n",
    ">**Note:** Please specify WHICH VERSION OF PYTHON you are using when submitting this notebook. Code and Markdown cells can be executed using the **Shift + Enter** keyboard shortcut. In addition, Markdown cells can be edited by typically double-clicking the cell to enter edit mode."
   ]
  },
  {
   "cell_type": "markdown",
   "metadata": {},
   "source": [
    "## Getting Started\n",
    "\n",
    "In this project, you will employ several supervised algorithms of your choice to accurately model individuals' income using data collected from the 1994 U.S. Census. You will then choose the best candidate algorithm from preliminary results and further optimize this algorithm to best model the data. Your goal with this implementation is to construct a model that accurately predicts whether an individual makes more than $50,000. This sort of task can arise in a non-profit setting, where organizations survive on donations.  Understanding an individual's income can help a non-profit better understand how large of a donation to request, or whether or not they should reach out to begin with.  While it can be difficult to determine an individual's general income bracket directly from public sources, we can (as we will see) infer this value from other publically available features. \n",
    "\n",
    "The dataset for this project originates from the [UCI Machine Learning Repository](https://archive.ics.uci.edu/ml/datasets/Census+Income). The datset was donated by Ron Kohavi and Barry Becker, after being published in the article _\"Scaling Up the Accuracy of Naive-Bayes Classifiers: A Decision-Tree Hybrid\"_. You can find the article by Ron Kohavi [online](https://www.aaai.org/Papers/KDD/1996/KDD96-033.pdf). The data we investigate here consists of small changes to the original dataset, such as removing the `'fnlwgt'` feature and records with missing or ill-formatted entries."
   ]
  },
  {
   "cell_type": "markdown",
   "metadata": {},
   "source": [
    "----\n",
    "## Exploring the Data\n",
    "Run the code cell below to load necessary Python libraries and load the census data. Note that the last column from this dataset, `'income'`, will be our target label (whether an individual makes more than, or at most, $50,000 annually). All other columns are features about each individual in the census database."
   ]
  },
  {
   "cell_type": "code",
   "execution_count": 6,
   "metadata": {},
   "outputs": [
    {
     "data": {
      "text/html": [
       "<div>\n",
       "<style>\n",
       "    .dataframe thead tr:only-child th {\n",
       "        text-align: right;\n",
       "    }\n",
       "\n",
       "    .dataframe thead th {\n",
       "        text-align: left;\n",
       "    }\n",
       "\n",
       "    .dataframe tbody tr th {\n",
       "        vertical-align: top;\n",
       "    }\n",
       "</style>\n",
       "<table border=\"1\" class=\"dataframe\">\n",
       "  <thead>\n",
       "    <tr style=\"text-align: right;\">\n",
       "      <th></th>\n",
       "      <th>age</th>\n",
       "      <th>workclass</th>\n",
       "      <th>education_level</th>\n",
       "      <th>education-num</th>\n",
       "      <th>marital-status</th>\n",
       "      <th>occupation</th>\n",
       "      <th>relationship</th>\n",
       "      <th>race</th>\n",
       "      <th>sex</th>\n",
       "      <th>capital-gain</th>\n",
       "      <th>capital-loss</th>\n",
       "      <th>hours-per-week</th>\n",
       "      <th>native-country</th>\n",
       "      <th>income</th>\n",
       "    </tr>\n",
       "  </thead>\n",
       "  <tbody>\n",
       "    <tr>\n",
       "      <th>0</th>\n",
       "      <td>39</td>\n",
       "      <td>State-gov</td>\n",
       "      <td>Bachelors</td>\n",
       "      <td>13.0</td>\n",
       "      <td>Never-married</td>\n",
       "      <td>Adm-clerical</td>\n",
       "      <td>Not-in-family</td>\n",
       "      <td>White</td>\n",
       "      <td>Male</td>\n",
       "      <td>2174.0</td>\n",
       "      <td>0.0</td>\n",
       "      <td>40.0</td>\n",
       "      <td>United-States</td>\n",
       "      <td>&lt;=50K</td>\n",
       "    </tr>\n",
       "  </tbody>\n",
       "</table>\n",
       "</div>"
      ],
      "text/plain": [
       "   age   workclass education_level  education-num  marital-status  \\\n",
       "0   39   State-gov       Bachelors           13.0   Never-married   \n",
       "\n",
       "      occupation    relationship    race    sex  capital-gain  capital-loss  \\\n",
       "0   Adm-clerical   Not-in-family   White   Male        2174.0           0.0   \n",
       "\n",
       "   hours-per-week  native-country income  \n",
       "0            40.0   United-States  <=50K  "
      ]
     },
     "metadata": {},
     "output_type": "display_data"
    }
   ],
   "source": [
    "# Import libraries necessary for this project\n",
    "import numpy as np\n",
    "import pandas as pd\n",
    "from time import time\n",
    "from IPython.display import display # Allows the use of display() for DataFrames\n",
    "\n",
    "# Import supplementary visualization code visuals.py\n",
    "import visuals as vs\n",
    "\n",
    "# Pretty display for notebooks\n",
    "%matplotlib inline\n",
    "\n",
    "# Load the Census dataset\n",
    "data = pd.read_csv(\"census.csv\")\n",
    "\n",
    "# Success - Display the first record\n",
    "display(data.head(n=1))"
   ]
  },
  {
   "cell_type": "markdown",
   "metadata": {},
   "source": [
    "### Implementation: Data Exploration\n",
    "A cursory investigation of the dataset will determine how many individuals fit into either group, and will tell us about the percentage of these individuals making more than \\$50,000. In the code cell below, you will need to compute the following:\n",
    "- The total number of records, `'n_records'`\n",
    "- The number of individuals making more than \\$50,000 annually, `'n_greater_50k'`.\n",
    "- The number of individuals making at most \\$50,000 annually, `'n_at_most_50k'`.\n",
    "- The percentage of individuals making more than \\$50,000 annually, `'greater_percent'`.\n",
    "\n",
    "** HINT: ** You may need to look at the table above to understand how the `'income'` entries are formatted. "
   ]
  },
  {
   "cell_type": "code",
   "execution_count": 7,
   "metadata": {},
   "outputs": [
    {
     "name": "stdout",
     "output_type": "stream",
     "text": [
      "Total number of records: 45222\n",
      "Individuals making more than $50,000: 11208\n",
      "Individuals making at most $50,000: 34014\n",
      "Percentage of individuals making more than $50,000: 24.78%\n"
     ]
    }
   ],
   "source": [
    "# TODO: Total number of records\n",
    "n_records = len(data)\n",
    "\n",
    "# TODO: Number of records where individual's income is more than $50,000\n",
    "n_greater_50k = len(data[data['income']==\">50K\"])\n",
    "\n",
    "# TODO: Number of records where individual's income is at most $50,000\n",
    "n_at_most_50k = len(data[data['income']==\"<=50K\"])\n",
    "\n",
    "# TODO: Percentage of individuals whose income is more than $50,000\n",
    "greater_percent = float(n_greater_50k*100) / n_records\n",
    "\n",
    "# Print the results\n",
    "print \"Total number of records: {}\".format(n_records)\n",
    "print \"Individuals making more than $50,000: {}\".format(n_greater_50k)\n",
    "print \"Individuals making at most $50,000: {}\".format(n_at_most_50k)\n",
    "print \"Percentage of individuals making more than $50,000: {:.2f}%\".format(greater_percent)"
   ]
  },
  {
   "cell_type": "markdown",
   "metadata": {},
   "source": [
    "** Featureset Exploration **\n",
    "\n",
    "* **age**: continuous. \n",
    "* **workclass**: Private, Self-emp-not-inc, Self-emp-inc, Federal-gov, Local-gov, State-gov, Without-pay, Never-worked. \n",
    "* **education**: Bachelors, Some-college, 11th, HS-grad, Prof-school, Assoc-acdm, Assoc-voc, 9th, 7th-8th, 12th, Masters, 1st-4th, 10th, Doctorate, 5th-6th, Preschool. \n",
    "* **education-num**: continuous. \n",
    "* **marital-status**: Married-civ-spouse, Divorced, Never-married, Separated, Widowed, Married-spouse-absent, Married-AF-spouse. \n",
    "* **occupation**: Tech-support, Craft-repair, Other-service, Sales, Exec-managerial, Prof-specialty, Handlers-cleaners, Machine-op-inspct, Adm-clerical, Farming-fishing, Transport-moving, Priv-house-serv, Protective-serv, Armed-Forces. \n",
    "* **relationship**: Wife, Own-child, Husband, Not-in-family, Other-relative, Unmarried. \n",
    "* **race**: Black, White, Asian-Pac-Islander, Amer-Indian-Eskimo, Other. \n",
    "* **sex**: Female, Male. \n",
    "* **capital-gain**: continuous. \n",
    "* **capital-loss**: continuous. \n",
    "* **hours-per-week**: continuous. \n",
    "* **native-country**: United-States, Cambodia, England, Puerto-Rico, Canada, Germany, Outlying-US(Guam-USVI-etc), India, Japan, Greece, South, China, Cuba, Iran, Honduras, Philippines, Italy, Poland, Jamaica, Vietnam, Mexico, Portugal, Ireland, France, Dominican-Republic, Laos, Ecuador, Taiwan, Haiti, Columbia, Hungary, Guatemala, Nicaragua, Scotland, Thailand, Yugoslavia, El-Salvador, Trinadad&Tobago, Peru, Hong, Holand-Netherlands."
   ]
  },
  {
   "cell_type": "markdown",
   "metadata": {},
   "source": [
    "----\n",
    "## Preparing the Data\n",
    "Before data can be used as input for machine learning algorithms, it often must be cleaned, formatted, and restructured — this is typically known as **preprocessing**. Fortunately, for this dataset, there are no invalid or missing entries we must deal with, however, there are some qualities about certain features that must be adjusted. This preprocessing can help tremendously with the outcome and predictive power of nearly all learning algorithms."
   ]
  },
  {
   "cell_type": "markdown",
   "metadata": {},
   "source": [
    "### Transforming Skewed Continuous Features\n",
    "A dataset may sometimes contain at least one feature whose values tend to lie near a single number, but will also have a non-trivial number of vastly larger or smaller values than that single number.  Algorithms can be sensitive to such distributions of values and can underperform if the range is not properly normalized. With the census dataset two features fit this description: '`capital-gain'` and `'capital-loss'`. \n",
    "\n",
    "Run the code cell below to plot a histogram of these two features. Note the range of the values present and how they are distributed."
   ]
  },
  {
   "cell_type": "code",
   "execution_count": 9,
   "metadata": {},
   "outputs": [
    {
     "data": {
      "image/png": "iVBORw0KGgoAAAANSUhEUgAAAxAAAAF2CAYAAAD+y36TAAAABHNCSVQICAgIfAhkiAAAAAlwSFlz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\n2gQEAADQJiAAAIA2AQEAALQJCAAAoO0Ga7UEP7pgqRcAAAAASUVORK5CYII=\n",
      "text/plain": [
       "<matplotlib.figure.Figure at 0x62094e0>"
      ]
     },
     "metadata": {},
     "output_type": "display_data"
    }
   ],
   "source": [
    "# Split the data into features and target label\n",
    "income_raw = data['income']\n",
    "features_raw = data.drop('income', axis = 1)\n",
    "\n",
    "# Visualize skewed continuous features of original data\n",
    "vs.distribution(data)"
   ]
  },
  {
   "cell_type": "markdown",
   "metadata": {},
   "source": [
    "For highly-skewed feature distributions such as `'capital-gain'` and `'capital-loss'`, it is common practice to apply a <a href=\"https://en.wikipedia.org/wiki/Data_transformation_(statistics)\">logarithmic transformation</a> on the data so that the very large and very small values do not negatively affect the performance of a learning algorithm. Using a logarithmic transformation significantly reduces the range of values caused by outliers. Care must be taken when applying this transformation however: The logarithm of `0` is undefined, so we must translate the values by a small amount above `0` to apply the the logarithm successfully.\n",
    "\n",
    "Run the code cell below to perform a transformation on the data and visualize the results. Again, note the range of values and how they are distributed. "
   ]
  },
  {
   "cell_type": "code",
   "execution_count": 10,
   "metadata": {},
   "outputs": [
    {
     "data": {
      "image/png": "iVBORw0KGgoAAAANSUhEUgAAAxAAAAF2CAYAAAD+y36TAAAABHNCSVQICAgIfAhkiAAAAAlwSFlz\nAAALEgAACxIB0t1+/AAAIABJREFUeJzt3Xe4JGWV+PHvYUAERERFRECHRVZEjIyIogiiC0ZMi7ii\nMyb0Z8I1AgZYs2taMaCssoyCsMiughgRBdeAZCUIgjJIBjEw5HR+f7xvMzU9fe+tvnN7uu/t7+d5\n+rm3q6qrTlV11+lT71vVkZlIkiRJUhurDTsASZIkSbOHBYQkSZKk1iwgJEmSJLVmASFJkiSpNQsI\nSZIkSa1ZQEiSJElqzQJizETEoojIiHjoCMRyQEQ8bdhxTCUiXhURF0bEbRHxt2HHs7IiYn59Dyya\nYrrOe6XzuDEilkTEtyJi94iI6cy36zU71vdB62NRI675jWFLIuKwtvOYblzTWcdR08/7OYqXRcQJ\nEXFdRNweEZdFxJERseMAY1wUEa+aYPhy+34ui4h1ImLfiDgjIpZGxC0RcUFEfC4iNh92fIMSESc2\njjt3RsRfI+Ksut6PWIn59nxfrWSsO3YdJ5uP18zksrqW2ddxU5ppvvk0TPsDI11ARMSDgIOBX1Ji\nffpwIxqKfwaeCDwLeB9wK3AEcHxErNWY7so63Xf7mPeOlPdBP8ei79blXNnHa/q1I73jms46jox+\n3s8RMQ84ClgMLAFeDewMvBu4J/CTiFhvQKEuAnp90VsV+34kRMRGwCnAuyjr/WLgmcCBlG1w9PCi\nWyV+S1nP7YGXAF8DdgLOiog3THOei+j9vpoJb6HE23wcM6Bl7Uj/x01pRq0+7ACkNiJizcy8dQiL\n3gKYByzOzJ+v7MwiYg3gjpxdv+B4VmZe1Hj+9Yj4JvBN4N+BNwPU/XPyoIJobLtrgWsHtZzJDHod\nV4F+3s/7Ur60vjgz/6dr3OER8Qzg9gHEOKFh7vsh+DqwEbBtZl7YGP5T4AsR8fzhhLXKLM3M5mft\nRxHxOcrJi89FxKmZeeqQYuvld13xziq1RXmNzLxt2LFolshMH2P0oJyBSeChU0y3J/Ab4Bbgz9Rk\n1jXN2sBBwHXADcC3gCfV+S+aYv7Z43FAHXcocBnlDM4vgZuBz9ZxewA/oXyJuAE4E1g4wfw/RDkr\ndDGwFDgJeETXdLvUZfy9zu8C4P2NOLpjPLSOW6POfwlwW/37IcoBuDPv+fU1b6B80b4CuAtYv7Ef\nnkQ5y7sUuBrYt75217puNwKnAtv0WMcXUr7M3gT8jfKF/sE99tEXG/voWODJLffRpO+Vur9vAdbu\nWt9FjWkeDxxfl38z8Efgi3XcAb3eB31su/mN5SwBDgNeC1xU4zoD2Kkr5hOBE3usy5LGvm0T16Ku\n17f5vHRi3AP4Xd23pwFP7ppuwm02xf56WN0nf6uvOxnYtTH+0B7rdegE87oH8FfguD6OLTOyDeo+\n6o7zxK73ZK99P9V2nXLfN4ZtC/yY8pm5ETiB8kW+7/kBD6S04lxBab27EjgOeMAk2/LxdT3f0cf2\n36tr+38VuO9MHxcb76UlPWJYbpsA9wI+B/yprvs1dbtuOcW6nAj8fIJxD6jz+npj2EPr++1iln1m\nDgLWb/m+2gD4MvB7yvH0UuAbwMYttvuOdV5Pn2K6tYGP1xhvq3/fA6zWmOaewGeAc+p2vwr4TnN7\nMfnxqRPLjl3LXsTEn5tXAedTTga8oI9Yp7Vvfcydhy0QWkFE7EU5mP435Szkg4CPAE+IiMdl5g11\n0oMp3VsOoCTsnYHDWy7micCvKInoy3XYZY3x6wFHAp8E9qMkBYDNgW9TvlTeAewAfCUi1srML3Ut\nY09K4tub8oXoE8AxEbFlZt4REf9A+UJ9NPAByoFyC+Af6us/CJxO6TLwRsoX0s7Zz8XA7nW7/JxS\nCLynvvZfuuJ4D6UI2Ity9veWxrjFlKb5zrb8SETch9Jd6MOUJPLvwLcjYvOsZ4ci4vWUBPlfNfZ1\nKfvhpIh4VGYurfP/MqX5/99qDM+gJMaZ8D3g+cAC4GfdIyPiXsAPKd0wFlG+rMynbCuArwCbULrG\nPBm4s8cyJtt23XYEtqmvuZXS1eb7EfHozLygj/VqE9fd+vi8ADyF8kX/fXVdPggcFxHzM/NvLbbZ\nRDE8iPI+XAq8ifLF743AdyPiOZn5fSZ/P3dbANyH8vmY0kxuA0rReBhlf7+uvub6KUKYap6tRcSj\nKF+qz2PZF699KJ+t7TLzN/3Mj/LF9iHAOylfTDekHCvXnuQ1z6h/227/jwFvp+zbdwIbUwqFrSPi\nSZnZfA+v7HGxH58Bnkc5hl8I3I/SJek+05gXAJl5TUScVufT8SBKgfZ2SuG9WV3m9yi5BiZ/X92X\nsp7vpZzI2ajO6xd1u0x23OlYLSKa36mys93r8B8CW1Hem2cD21Her/etywJYE7g38FHgcsoJkzcA\nv4qIh2fmVfR5fJrCTsBjKPnhGmBJH7HO+L7VLDPsCsbHqn0w9VnleZQD6E+7hnfOWr+lPn8Y5Yzw\nu7qmO5AWZ7frtAl8qMfwQ+u43aZ4/WqUbnj/Cfymx7wvZPkWgRfX4U/qen7vSZbxdLrO6ABb02gx\naQx/bx3+qPp8fn1+BhAT7IfmWb3VKQfx24HNGsOfV6d9an1+L8oXxEO65rkZJQm+tbGP7gT26Zru\noDb7qMV7ZZc6/iVd67uoPl/Q3B4TzOOAOs3qXcPbbLv5jWFL6rpv2hi2LvAXlj9TeSLtzhpPFVdn\nHVt9XhrL+CvLnxXtbKN/abvNJtiOn6QU1A9tDJtH+aJ4xmTv5wnm95I63S4tlj2j26Cxn1Y4Az3J\nvm87zzb7/mhKK859GsPuXd9L/zuN+d3Q3AYt92fnM7pmi2nnUz7n7+8avn2dx/Mbw2bquHgo7Vog\nzgE+3c+6T7b/G+OPAG6eZPzqjfffY9vOt+s9vWl9/QummHZHereoX9aY5uV12A5dr30P5bjVszWq\nxrE25cTAvzaGH0Dv41Mnlh27hi+i9+fmJuCBXdO2inW6+9bH3Hl4AY66PYzSRLxcS0KW/tKXAE+t\ng54ABKXbTNNyF/bVu7is3njMaxnH7ZRm/uVExBYRcUREXF6nuR14TY272/GZ2eyjfXb9++D696z6\n+iMj4sUR8YCWse1Q/3bf9afz/Kldw7+dWY64PXy/809m3kHpfvP7zLy4Mc359e+m9e8TKV9oDm9u\nW8rZzfMb8T2BUmQd1bXMIyeIpV+duzBNtG4XUr6IfTki9oyITSeYbjKTbbtuJ2fmpZ0nWVphOhfd\nDkrbz0vHrzLzr43n3e/J6W6zHSjrf/e1KlnOfh4BPCYi7t1yPtMx09tgOmZynjtQum7d3XKRmddT\nzsp3r0sbpwLvjIi9I+KRta/5THoG5XPefTz4NeWL5w5d0w/quNjLqcCiiNgvIhb0cfyfStA47kTE\nPeoyzo+Imynx/18d3Ss3rDjDiP8XEb+JiBsoxfif+nk9pVXv8Y3HsxrjdqV8Fn7ZtY9+ROkOu10j\njt0j4tdR7pB2B6UL3b36iKMfJ2dp1WhqG+ug9q1mCQsIdbtv/dvrLidXNcZvVP9e0zXN1V3PF7Ls\ni/7twB9axnFtLt/s3ukSczzwaEqXgqdQDtSHUJp+u/2l63nnIux7AtQvW7tQPgdfB66KiJMjYqov\nCRNto6u6xjPBdE1/7Xp+2wTD7o6b8mUNSn/T27sej6Q0JcOyfdS9T7qfT1fny23P9cvMv1OayK+g\nXIfxp4g4JyJe1Mcy+rnbTq/1uprSnWNQ2n5eOpZ7T+ayGwN03pPT3Wb3nSSGoHSF6EenEHtIi2ln\ndBtM00zOc7Jt2e92hNKacyzlbkq/BS6PiPdPcQvOfrZ/53hwESseD9Zl2fGgY1DHxV7eTOna9irK\nF85rIuIzETFZ9602NmX5ffRRyln5w4BnU65heWEdN+V7ICLeTPm8/bi+bluWfVFu+x76fWae1nj8\ntjHuAZR92b1/Tqnj71fjeC6lG+DvKF1hn0DJcdf2EUc/er3PW8XK4PatZgmvgVC3TnJ5YI9xD6T0\noYZlB54HUC6w6tiw6zXfoRwAO9reSanXWecnUg5sT8nGHWS6+p32JTN/Cvw0ItakNPl/gNJvfH5m\n/nmClzW3UbMgemDX+LsXM934JnBd/bsIOLfH+M71D519tCHlokIaz2fCsyn9zU+faILMPAt4Ud1H\nCyj944+q1yWc02IZ/Wy7Xuu1IaUvccctlNabbt1fcttq+3lpbZrb7C+TxJCsWJRO5TRKS8hzKdfn\nTGbGt8GAtN33k23L5nZsNb/MvIZydvqNEfEwykmVf6N8KTxoglh/TLkG6rnApyaYpqNzPPgneu/n\n63oMm1SL4+ItlOsnut2vubws177sC+wbEQ+hdI/6GOWkyLv7jQugtogsYPmW1D2Ar2XmhxrT3auP\n2e4BnJCZnf79RMRm04lvAtdR8uTuE4xf0ojjosxc1IhjDdofnzrXanTvm+4isqPX8bVVrIPYt5pd\nbIFQtwsoZ233aA6MiCdRvryfWAedQjn4/HPX65d7npnXdZ2VObsx+jZgLdrrnNm4u/k9ItYHdutj\nHj1l5q2Z+RPKBcvrUK4nmEjnguE9uoa/rP49cWXjmcIvKUXCQ7u2befRuWD415TrVLoTQXfcfatn\nxJ8HfCkzb5pq+sy8I8stDt9HOe48vI7qFJT9vA8msl2zy09ErEspcn7VmOYS4B8j4h6N6XagnKlt\nahtX289L3ybZZr2cRFn/+Y0Y5lHOfp9Zu+D0s+zbKF9cnzNR60dEPKOebRzENriVmXlPNLXd9ycB\nz6rvn85061K+zJ84jfndLTMvyMz9KF/0t55kulMod5vbLyb40c+I6Bz3jqd8zh88wfHg4l6vb2OS\n4+IlwIYRsUEjns2ZpJtNZl6SmZ+idJmacN0nU79Mf5Fy8vPAxqi1WfGWwq/sMYuJ3ldtXz9dP6C0\nmtwwwT7qnKxam9JtqenllGshmiY6Pl1S/3Zv32cPINa7zcS+1exjC8T42jUiuvs+/j0zj4+I91P6\nYB9GaRLemHI27EJKdyEy8/yI+AbwwdoUfzrlh6meW+d1V4sYzgOeHRE/oCTUKzLzikmm/yXlrhlf\niIj9KQntvZRbFvb9g1ZR7mS0A+VOHZcC96ecUbmCcoFYT5l5TkQcARxQzxL/ktI68j7giK4iacZl\n5vUR8U7KdtiAch3F3yn76amUixi/kZkX1H30gbqPTqWcpXzWRPOewGMi4v6Us1oPBp5DKRSPp2yv\nniLiOZS7J32bckZrHcrtI5ey7Ev9efXv2yPi+8CdmXlan/F1XE25V/wBLLsL0zqUO4l0HFljOiQi\nDqV8IXobZfs1tYorM+9s83lpq+U26+UzlBap4+tn43rK3Vv+kf6+PDR9lNJd8L/rtvoO5ez8JsCL\nKF091s/Mm2ZyG1TnAW+IiJdQWvmWZn930uql7b7/IOU9fkJEfJxyouTdlC93H+hnflF+aO/HlOtD\nOrfK3I3SFepHU8S7Z33tqVF+/+DnlJMuW1K6jawBHJOZf6hxfr62cJxEORO9KeX6iK/UFoVWWh4X\nv1m302ER8enGNH/umtevKN23zqZcTP5UyntqcYtQ1o2ITjeidSndM19JKVLekJnNlq0fAAsj4mxK\nV64X0vvOZRO9r34AvDsi9qOcHHsa5Yz6TDm8xn5CRHyKcrvde1DuKvg8yoXuN9U4nh8Rn6FcA7iA\n0lWo+05iPY9PmXllRJxEaRX4M6WL8Z70dwetVrGu5L7VXNDvVdc+ZveDZXdj6PU4pzFd557ut1Ka\nNCf7HYi/sOw3Bp5Nizso1ddvTyk8bqFxVyPq70BM8JqnUX4f4WZKAngL9Y4UXdMlXXd4YsU76HR+\nKfRSlt2f/ZvAwxqv6XnXGsoB9UOUMz63178T/Q7EaybZDw/tGn4iXXcJmWg+lELgp5Qvizex7Mva\nVlPso87dWRb1+V65ua7ntygFRPfdkbq378Mo/Xkvrvv4WsqXkic0XjMP+AIl0d3V2Y8tt938xrAl\nlC+ur6nvi1vr++RpPV7/urqtbqYUf9uw4p1zpoprUdc823xelgCH9Yin+d6fcptNsr8eRik8/l5f\nu9zvQEz2fp5knlHX7SeUIv92yu2Wj6B0JZzxbVCfP7Cu99I67sSp9v1U82y77+t0T2CK34FoMz/K\ntVlfpnQ1vIHyWT2Vxt2hptj+96LcJrPzmzC3Ulp8Pgv8Q9e0L6/7/Ma6rN8Bnwc26domK31crNM9\nn1JQ3Fz3+z+x4l2YPl5j/3uN62xa3JGK5X+z4a76+rMovzvwiB7T359S0P21Pg5n2W9pLGpMN9H7\nai3KcfLaOu44SkG4wnuox7J3rNNN9TsQ96TkqvPrdv1LfS8cQL2bEqWl8UOUYu0mSjH4WFoen+q4\nTSjF/t8o1+18hHJcbPW56SPWae1bH3PnEfWNIM2IiHgHpbl7fmb+aarpJUmSNLvYhUnTVrtbbE05\nM3QX5a5I7wCOsniQJEmamywgtDKWUpqx96H01b6ccmHb/sMMSpIkSYNjFyZJkiRJrXkbV0mSJEmt\nWUBIkiRJas0CQpIkSVJrFhCSJEmSWrOAkCRJktSaBYQkSZKk1iwgNKGIODQijpuB+RwQEefMRExT\nLGd+RGRELBj0ssZdRCyKiBsGNO8TI+LzjedL6i+cD2JZA1sPaS5blflhppalwRlknu/OATXPv3hA\ny1ol31fmAguIWaIeQA9YxYvdG9izEcNyX+xG0KXARpRfxm4lInaMiCVTTLOkHrCaj7+tZKzdyxj6\ntq3borN+d0XE9RHx24j4bERs1jX5fwP/0HK+/RZ2LwT27Sf2lnH0Sjqt10MaVeaHmVNPKpw4xTTd\n+SAjonXeaRnHwE6c9BHDosb63RkRf4uI0yLiwxHxgK7JPwk8teV8O7nm/i1DeTzwxX5ibxHDRHmp\n9XqMO3+JWhPKzL8PO4Z+ZOadwFUDmv0HgIMaz+8a0HJWWkSskZm3r8QsHgH8BbgX8GjgrcDZEfHs\nzDwJIDNvBm5e6WAbIuIemXlbZv5lJuc7mUGshzQOZlt+GIDXAs1WkZU55g5MRKxG+dHgO6c5i5uA\nzYEA7k35Mv9u4LUR8dTM/B1AZt4AzGhrbiMnXDuT853MINZjrrIFYpaKiHtExEci4pKIuDUi/hgR\nb6nj5kXEVyPi4oi4OSIujIh31QNJ5/WHRsRxEfHeiLg6Im6IiP+KiLW6p+n8T6nK39g4IzG/zbJa\nrs86EfG1GseVEfHOGt+hjWn2jIhTI2JpRFwTEd+MiI0b45c7o9A4y7FzRPw6Im6qZ08eN41NvjQz\nr2o8rmksd72IOLjGtDQiTmqe1YiI+0XEERFxWd1G50bEKxvjJ9q2K5ylmWQdnxURp0TEbcAuddxz\nI+L0iLil7p8PR8Q9WqzrNXUdL8rM/wF2BM4EDomIeXXey3X9iYhNI+KYiPhL3c7nR8QedfTF9e+p\nNdYTO+td9/G7I+Iy4LI6vNeZzHtFxGH1/XFVdJ2Zix6tC9E4gxfLWpm+Wadd0ms96rDXRcRFEXFb\n/fvaHsvaq77/bqyfvT2RRkTMsfzQY/3WjIj/qLHdEhEnR8STG+PXiIgDI+KKuv6XRsTHGuNfGKV1\n9eZ6zDopIjbsM4y/deWE6xrz3zgijoyIv9bHdyNii8b4zevx8qp6DDkjIp7TGH8i8BDgE53tWYf3\nOl4tlyc609SccA5wG/DwOu6VEXFe3Wa/j4h/bbEvsq7flZl5QWYeBjwR+BvwpUYcy3X9iYhHRsQJ\nUVqyb4iI30TEThExH/hpnezaGvuhnfWOiIMi4pMRcS3wizq8V2vMA+t2vam+z5utYT1bF2L5PDFR\nXupej9Ui4n31PXRrRJwdEbv1WNaLIuL4Gs95EfGMKbbrrGcBMXstBl4BvI1ycFgI/LWOWw24HNi9\njnsPsB/wyq55PJVyhnln4EXAPwEfn2B5ewO/Av6L0k1oI0qXobbLmsqnajwvAJ4ObAM8pWuaewD7\n15ifA9wfOKLFvD8K7AM8DrgOODwios/4eqrz+S6wcY3pscDPgJ9ExEZ1snsCZ9TxjwA+C3w5Inau\n4yfatv34OPBeYEvg1xGxC3A48Pm6zFcBLwY+0u861jNXn6F09XnsBJN9EVgb2Kku762UBAOwbf27\nK2XdXth43VOBR9VxOzOxtwG/o+zD/YGPRMQLJ5m+2+Pr39fWGB7fa6KIeAFlm/0HsDVlX30xIp7b\nNen7gWMo78X/phRXD+4jHmmQ5lp+6PbvwEsox7XHAmcDP2gcc99CySV7AFvUaS8AiIgHAkdSttHD\ngR2Ar69kPHeLiLUpX5BvoWzDJwJXAj+u46C07n4feAZlG/8P8L8RsWUd/0LKCZUPsGx79uOewPuA\n1wFbAZdEORHyEcqx6+HA2yktCW/odx3rWfovATtExAYTTPYNynpvCzwGOICyTS6lvJ+g5IqNKO+f\njj0prR1PobyHJ/JvwLF13gcDX+suGKYwWV5q2ht4J2VbPRL4FmVfPaZrug8DB1L256nAkRFxrz7i\nmX0y08cse1AOiAns2sdrPgb8uPH8UMoXvHs1hu0J3Aqs05jmuMb4E4HPT2NZBwDnTDL9vShnSfZo\nDFuHkvAOneR1W9btsEl9Pr8+X1Cf71if79J4zfbN17Tcdkvqdrmh8divjntafb5W12vOAt41yTyP\nBL4y2bZtxH//xrCJ1vFFXa/9GfC+rmHPr7HGBDGtsLwe23r3+nwRcENj/G+B/SeY73Ixd70HrwXW\n7Bq+3Lao2//4rmm+Avy88TyBF/fYb++YYpru9fgFcEiPOLuX9dHG89Upzfx7tn1P+fAxqAdzLD90\nL4uSG24DXtEYPw/4A/Ch+vxA4IRexzrKSYgEHrIS2zgpXR+bOeFlddyrgAuby67xXdc5fk4wz5OB\n9zaeL3f8qsOWO17VYTvSOG7XaRLYpmu6PwEv7xr2VuC8SWJaYXmNcbvW5Wzbaz8C1wMLJ3jtcjF3\nvYd+22P65bZFfe1/dk3zY+Cw+v98euecu3PAJNN0r8flwPt7xNm9rNc1xm9chz15uu+x2fDwGojZ\n6bGUPvg/nWiCiHg98BpKM+hawBrAJV2T/TbLmYSOX1HO8m9O+ULYSstldaZ9CuXMS8frgHPqa07p\nDMzMG6PrTghRuh7tTznjcF/KWQqAB1O7v0yguS5X1L8PmOI13T4NfLXxvNNPfxvKmfdruxo17knZ\njkTp9rMP5SzYxsCalO18Yh/Ln8ppXc+3AbaNiHc3hq1G2T8PpJwZ6kdn5XKC8Z8FvhQRu1IS97cy\n8/QW8z0nM29tMd2vejzvpwWirYcDh3QN+znwvK5hd7+nMvOO2tzefVGhNAxzKj9k5uFdk21e5/GL\nzoDMvDMifkU52w6l4Dge+H1E/Aj4HvD9zLwL+A3ly+Y5ddyPgaOz/3727wR+0Hh+df27DbAZsLQr\nJ6zNspywDiWXPYdy9nsNSs5ovV2ncAeNm4nUVoJNKS3fzWv5VmfZsb1fU+WETwNfiYiFlJzwP5l5\nfov5tskb0DsnPLvla1uJiHsDD6LxXqt+Djyra9hE3zPmLAuIOSgiXkLpgvEO4JeUMwFvpDTpDntZ\np1EKgI6raXEXnHrA/SHlYP9y4BpKF6b/oyS1yTQvbusc7PrtvnddZl7UY/hqlHXo7m4FZVtA2TZv\npzSFnk05W/URpj64dC7Ubh7g15hg2ht7xPVvwDd7TDudC9I6ifmPvUZm5lcj4oeUg+rTgV9GxEcz\n84Ap5tsd93QlKybCibbVdOff1H3BZGKXUM0CszA/9KOcZs48o/a134XSBWsx8JuIeEYtNv4J2I7S\nLevVwEejXBD8mz6WddUkOeEsSvepbp0TT5+knMF/B6W14ibga0ydy+6i3XHu1lz+ounOsen1lP0w\nE7aibO8lvUZm5gERcTjwTMp+2D8iXp+Z3Sdous1ETlghd0bETOYDmCQnZGbW4nFO5wQLiNnpLMob\ncyeWPwPS8WTg15nZvJf+5j2me2RErJOZnQ/sdpSm4T9MsNzbKE2x01kWcPddb5Y76EbEHygfvsdT\nv6DWvqJbN2LZklIw7JeZF9dpBnEGul9nABsCd2Vmzy/XlG30ncz8Otx93cQ/suwaAei9bTtf9Ddq\n/N/d73KyuLacIMH1pbagvJWyLya8VWFmXkbpi3pwbfnYm9IcfFudpHv9+rFdj+e/azy/lkY/4SgX\nRHb3G769RQy/o3Rza7Y2PRk4r59gpSGaU/mhhz/UZW3fiaUeo55I6XffmddS4Gjg6HqR7snAQ4Hf\nZ+ln8ivgVxHxAeBcSgtxPwXERM4AXgr8OTMnut33k4GvZblJBRHRabH+fWOaiXLC2hFx78zsnKCa\nMidk5tURcQWweWZ+rf2q9Fb79r8eOGmylpvMvJBSIB1YWz5eQ2nhnamccEjX805OaObOju7tNGUM\nmXl93W7bU1pROswJWEDMSpn5+4g4itI8uDflgLUJML9+Sf09sCginkk5GO9BuZjrr12zWp1y8ecH\nKM10H6P0K5zoDMASSreY+ZSz6H/pY1mTrc8NEXEI8PGI+DOle817KUmwU+X/idL/9k0R8QVKV5MP\ntl3GAP2Y0rx5TES8Czif0kVoV0o/3/+jbKOXRLlLyJ+BN1OauM9szGcJK27biygXnB0QEftQ+lq+\nt2VcHwCOi4hLgKMoTdpbU/qrvmuK1z4gIlanXJvyKOBfKd0inpUT3AowIj5L6Xrwe8qt/nZl2QH2\nGkp/4V2i3P3oluz/FpDbRcS+lC8EO1IurntZY/xPKHeA+SVwJ6WF55aueSwBdo6Ikyhn6Hq9Rz9B\nuVPT6cCP6nq8jMF0l5Jm3FzLDz3W78b6ZbSTLy6mHKM2pP5WQES8jZJHzqKcOPgXSuvHZRGxHaWV\n9IeUFo7HUrr3zNQXwsMpLQvHRMT7KblrU2A34Ev1S/XvgRdExDE1vv0pXZialgBPiYjDKMerPwO/\nppyh/2hEfIZywW7bi6D3Bz4X5TeMvkdpuXgcsHFmfnSS10W98BxgPZbdxnU9Vuza2XnBWpRWlm/W\n9diQWkybS3/1AAAfU0lEQVTWSS6h5PZnR8R3gJu7usu18cKIOJXSFfjFlJamJ0ApRCPiZODd9QTl\nepSbqTS1zUufAD4QERdSulftSelxMJ27Oc4pc7p5ZY57BeVsy4GUL62HUj4kAF+mfGn8BuVuAPMp\ndznqdhLlzMtPKXcW+Akw2ZfLT1Kq9vMoFf6D+1jWVN5B6Y50bI3nbEpz9i0A9SzHQsqFwOdRDoZv\nm8ZyZlQ9k/Usyrb7T8qdPo4CHsayfpAfolzf8X3Kxc03UpJM0wrbNstvOexB6eL1G0qXpP1axvVD\nSn/QneqyT6Fch/GnFi8/l5J8z6QUImcCj8rMn03ymtWAz9X4j6ck5oU1ljsod0V5DWWbHNNmHbp8\nmlLMnEnZnu/PzKMb499Oab06kVJkfIWSIOiaZidKUXYmPWTmtykF3r/WddkbeENmfmcaMUvDMtfy\nQ7d3U+5+9l+UIuFRlIvGO9d2LaVco3AKpYB6DPDMzLwJ+DvljPJxlLPjnwI+mOX2pCutLmMHyvHo\nm5TtvxhYn2WF09sox6f/o+SFk+v/Te+nFB5/oJ5Rz/IbOS+j3L3pbGAvyt2W2sT1FcoF3i+n5JP/\nq6+/eIqXrk3JB1dQtufbgO8AW2f9DYge7qSs76GUnPgtSovP22osl1Ny+IcpuWI6P0B4AOVuTr8F\n/h/wysw8tTH+VfXvqZT34XIn3/rISwdSioh/p1yv+QLKTUtmorVqVovy/Ufjpjbp3j8znzPVtMMQ\nEWtSzlJ8IjNnIuFIkloY9fwgafjswqSREBGPpXRLOgVYl3KGaV3KWSZJkiSNiKF1YYqIwyPigog4\nJyIO6VwhH8WBUX4B9rfR+NXgiNi1vuai2ie8M/y+UX4B8ML6d/1hrJNW2tsoXUt+QukzuUO9MFfS\nmDA3SNLoG1gB0eJAfTjlzjqPpNwb+jV1+DMpP4SzBaV/3kF1fvOAL9TxWwEvjYjOrSX3AU7IzC0o\nV8rfnUDUW2YuGqXm6cw8MzMXZOa6mbl+Zu7U8ncEJM0i5obRN2r5QdLoGWQLxGn1TNLT6m0rl5OZ\n38uK0m1lkzpqN8rtzTIzTwbuE+Xn6bcFLsrMP2bmbZRf8t2t8ZrF9f/FlAttJUmjx9wgSbPcIK+B\n+EfKGaE3AV+IiK8Dh2bmFc2JavP0yyl3O4HyS72XNia5rA7rNfwJ9f8NG3dfuIrS/WUFEbEX5cwV\n66yzzjZbbrnltFbs9Ouuaz3tNve737SWIUmDdPrpp/85MzcYwqLNDZgbJI2mtrlhYAVEvV/8cZR7\n0W9AuQfvnyLiSZl5SmPSLwI/q/fLn4nlZkT0vLVUZh5M+aErFixYkKeddtq0lhGLF089UXXawoXT\nWoYkDVL9jZBVztxQmBskjaK2uWGgd2GKiPUo97FfRLk/9Kso9+ztjN8f2AB4XeNll1PufdyxSR22\nxgTDAa6OiI0y88rapN19/3dJ0ogwN0jS7DbIi6gPo/yAy2bAKzLzqZn5tcy8pY5/DbAL8NLMvKvx\n0mOBV9Q7bmwH/L02QZ8KbBERm0XEPSjJ59jGazqncxYyvR+qkiQNmLlBkma/QbZAHAUsqr/218uX\nKD8U9qt6Hd3/ZuYHKD+x/izKz97fBLwSyq8GRsSbKD8/Pw84JDPPrfP6GHBURLy6znP3waySJGkl\nmRskaZYb5DUQx04xvuey65033jjBuO9Rkkj38OuAnacRpiRpFTI3SNLsN7QfkpMkSZI0+1hASJIk\nSWrNAkKSJElSaxYQkiRJklqzgJAkSZLUmgWEJEmSpNYsICRJkiS1ZgEhSZIkqTULCEmSJEmtWUBI\nkiRJas0CQpIkSVJrFhCSJEmSWrOAkCRJktSaBYQkSZKk1iwgJEmSJLVmASFJkiSpNQsISZIkSa1Z\nQEiSJElqzQJCkiRJUmsWEJIkSZJas4CQJEmS1JoFhCRJkqTWLCAkSZIktWYBIUmSJKk1CwhJkiRJ\nrVlASJIkSWrNAkKSJElSaxYQkiRJklqzgJAkSZLUmgWEJEmSpNYsICRJkiS1ZgEhSZIkqTULCEmS\nJEmtWUBIkiRJas0CQpIkSVJrFhCSJEmSWrOAkCRJktSaBYQkSZKk1iwgJEmSJLVmASFJkiSpNQsI\nSZIkSa1ZQEiSJElqzQJCkiRJUmsWEJIkSZJas4CQJEmS1JoFhCRJkqTWLCAkSZIktWYBIUmSJKk1\nCwhJkiRJrVlASJIkSWrNAkKSJElSaxYQkiRJklqzgJAkSZLUmgWEJEmSpNYsICRJkiS1ZgEhSZIk\nqTULCEmSJEmtWUBIkiRJas0CQpIkSVJrFhCSJEmSWrOAkCRJktSaBYQkSZKk1iwgJEmSJLU21AIi\nIg6JiGsi4pzGsAMi4vKIOKs+ntUYt29EXBQRF0TELo3h20TE2XXcgRERq3pdJEkzw9wgSaNt2C0Q\nhwK79hj+mcx8TH18DyAitgL2AB5RX/PFiJhXpz8IeC2wRX30mqckaXY4FHODJI2s1Ye58Mz8WUTM\nbzn5bsCRmXkrcHFEXARsGxFLgHtn5skAEfE14PnA92c+YknSoJkbJM02sXhxX9PnwoUDimTVGHYL\nxETeHBG/rc3Y69dhGwOXNqa5rA7buP7fPVySNLeYGyRpBIxiAXEQ8A/AY4ArgU/N1IwjYq+IOC0i\nTrv22mtnaraSpMEzN0jSiBi5AiIzr87MOzPzLuA/gW3rqMuBTRuTblKHXV7/7x7ea94HZ+aCzFyw\nwQYbzHzwkqSBMDdI0ugYuQIiIjZqPH0B0LkLx7HAHhGxZkRsRrkg7pTMvBK4PiK2q3fYeAVwzCoN\nWpI0UOYGSRodQ72IOiKOAHYE7h8RlwH7AztGxGOABJYArwPIzHMj4ijgPOAO4I2ZeWed1Rsod+1Y\ni3KBnBfJSdIsZW6QpNE27LswvbTH4K9OMv2HgQ/3GH4asPUMhiZJGhJzgySNtpHrwiRJkiRpdFlA\nSJIkSWrNAkKSJElSaxYQkiRJklqzgJAkSZLUmgWEJEmSpNYsICRJkiS1ZgEhSZIkqTULCEmSJEmt\nWUBIkiRJas0CQpIkSVJrFhCSJEmSWrOAkCRJktSaBYQkSZKk1iwgJEmSJLVmASFJkiSpNQsISZIk\nSa1ZQEiSJElqzQJCkiRJUmsWEJIkSZJas4CQJEmS1NqUBUREbB8R69T/94yIT0fEQwYfmiRpVJkb\nJGl8tWmBOAi4KSIeDbwd+APwtYFGJUkadeYGSRpTbQqIOzIzgd2Az2fmF4B1BxuWJGnEmRskaUyt\n3mKapRGxL7AnsENErAasMdiwJEkjztwgSWOqTQvES4BbgVdn5lXAJsAnBhqVJGnUmRskaUxN2QJR\nE8OnG8//hP1cJWmsmRskaXxNWEBExFIgJxqfmfceSESSpJFlbpAkTVhAZOa6ABHxQeBK4OtAAC8D\nNlol0UmSRoq5QZLU5hqI52XmFzNzaWZen5kHUe66IUkaX+YGSRpTbQqIGyPiZRExLyJWi4iXATcO\nOjBJ0kgzN0jSmGpTQPwLsDtwdX38cx0mSRpf5gZJGlOT3oUpIuYBL8hMm6UlSYC5QZLG3aQtEJl5\nJ/DSVRSLJGkWMDdI0nhr80vUv4iIzwP/TaN/a2aeMbCoJEmjztwgSWOqTQHxmPr3A41hCTxt5sOR\nJM0S5gZJGlNtfol6p1URiCRp9jA3SNL4mvIuTBGxXkR8OiJOq49PRcR6qyI4SdJoMjdI0vhqcxvX\nQ4CllNv17Q5cD/zXIIOSJI08c4Mkjak210Bsnpkvajz/t4g4a1ABSZJmBXODJI2pNi0QN0fEkztP\nImJ74ObBhSRJmgXMDZI0ptq0QPw/YHGjb+tfgUUDi0iSNBuYGyRpTLW5C9NZwKMj4t71+fUDj0qS\nNNLMDZI0vtrchekjEXGfzLw+M6+PiPUj4kOrIjhJ0mgyN0jS+GpzDcQzM/NvnSeZ+VfgWYMLSZI0\nC5gbJGlMtSkg5kXEmp0nEbEWsOYk00uS5j5zgySNqTYXUR8OnBARnft7vxJYPLiQJEmzgLlBksZU\nm4uoPx4RvwGeXgd9MDN/ONiwJEmjzNwgSeOrTQsEwO+AOzLzxxGxdkSsm5lLBxmYJGnkmRskaQy1\nuQvTa4GjgS/XQRsD3x5kUJKk0WZukKTx1eYi6jcC2wPXA2TmhcADBhmUJGnkmRskaUy1KSBuzczb\nOk8iYnUgBxeSJGkWMDdI0phqU0CcFBH7AWtFxDOAbwLfGWxYkqQRZ26QpDHVpoDYB7gWOBt4HfA9\n4L2DDEqSNPLMDZI0ptrcxvUu4D/rA4CI2B74xQDjkiSNMHODJI2vCQuIiJgH7E65s8YPMvOciHgO\nsB+wFvDYVROiJGlUmBskSZO1QHwV2BQ4BTgwIq4AFgD7ZKa36pOk8WRukKQxN1kBsQB4VGbeFRH3\nBK4CNs/M61ZNaJKkEWRukKQxN9lF1LfVPq5k5i3AH00QkjT2zA2SNOYma4HYMiJ+W/8PYPP6PIDM\nzEcNPDpJ0qgxN0jSmJusgHj4KotCkjRbmBskacxNWEBk5iWrMhBJ0ugzN0iS2vyQnCRJkiQBFhCS\nJEmS+jBhARERJ9S/Hx/UwiPikIi4JiLOaQy7b0QcHxEX1r/rN8btGxEXRcQFEbFLY/g2EXF2HXdg\nRMSgYpakcWZukCRN1gKxUUQ8CXheRDw2Ih7XfMzQ8g8Fdu0atg9wQmZuAZxQnxMRWwF7AI+or/li\n/UVUgIOA1wJb1Ef3PCVJM8PcIEljbrK7ML0feB+wCfDprnEJPG1lF56ZP4uI+V2DdwN2rP8vBk4E\n3l2HH5mZtwIXR8RFwLYRsQS4d2aeDBARXwOeD3x/ZeOTJK3A3CBJY26yuzAdDRwdEe/LzA+uwpg2\nzMwr6/9XARvW/zcGTm5Md1kddnv9v3u4JGmGmRskSZO1QACQmR+MiOcBO9RBJ2bmcYMN6+5lZ0Tk\nTM0vIvYC9gJ48IMfPFOzlaSxY26QpPE15V2YIuKjwN7AefWxd0R8ZIAxXR0RG9VlbwRcU4dfDmza\nmG6TOuzy+n/38BVk5sGZuSAzF2ywwQYzHrgkjQtzgySNrza3cX028IzMPCQzD6FchPacAcZ0LLCw\n/r8QOKYxfI+IWDMiNqNcEHdKbdK+PiK2q3fYeEXjNZKkwTA3SNKYmrILU3Uf4C/1//VmauERcQTl\norj7R8RlwP7Ax4CjIuLVwCXA7gCZeW5EHEU503UH8MbMvLPO6g2Uu3asRblAzovkJGnwzA2SNIba\nFBAfBc6MiJ8CQenvus9MLDwzXzrBqJ0nmP7DwId7DD8N2HomYpIktWJukKQx1eYi6iMi4kTg8XXQ\nuzPzqoFGJUkNsXhxX9PnwoVTT6SVYm6QpPHVqgtT7Ut67IBjkSTNIuYGSRpPbS6iliRJkiTAAkKS\nJElSHyYtICJiXkScv6qCkSSNPnODJI23SQuIeiu8CyLCn+aUJAHmBkkad20uol4fODciTgFu7AzM\nzOcNLCpJ0qgzN0jSmGpTQLxv4FFIkmYbc4Mkjak2vwNxUkQ8BNgiM38cEWsD8wYfmiRpVJkbJGl8\nTXkXpoh4LXA08OU6aGPg24MMSpI02swNkjS+2tzG9Y3A9sD1AJl5IfCAQQYlSRp55gZJGlNtCohb\nM/O2zpOIWB3IwYUkSZoFzA2SNKbaFBAnRcR+wFoR8Qzgm8B3BhuWJGnEmRskaUy1KSD2Aa4FzgZe\nB3wPeO8gg5IkjTxzgySNqTZ3YborIhYDv6Y0T1+QmTZTS9IYMzdI0viasoCIiGcDXwL+AASwWUS8\nLjO/P+jgJEmjydwgSeOrzQ/JfQrYKTMvAoiIzYHvAiYJSRpf5gZJGlNtroFY2kkQ1R+BpQOKR5I0\nO5gbJGlMTdgCEREvrP+eFhHfA46i9HP9Z+DUVRCbJGnEmBskSZN1YXpu4/+rgafW/68F1hpYRJKk\nUWZukKQxN2EBkZmvXJWBSJJGn7lBktTmLkybAW8G5jenz8znDS4sSdIoMzdI0vhqcxembwNfpfzC\n6F2DDUeSNEuYGyRpTLUpIG7JzAMHHokkaTYxN0jSmGpTQHw2IvYHfgTc2hmYmWcMLCpJ0qgzN0jS\nmGpTQDwSeDnwNJY1U2d9LkkaT+YGSRpTbQqIfwb+ITNvG3QwkqRZw9wgSWOqzS9RnwPcZ9CBSJJm\nFXODJI2pNi0Q9wHOj4hTWb6fq7fqk6TxZW6QpDHVpoDYf+BRSJJmG3ODJI2pKQuIzDxpVQQiSZo9\nzA2SNL7a/BL1UsqdNQDuAawB3JiZ9x5kYJKk0WVukKTx1aYFYt3O/xERwG7AdoMMSpI02swNkjS+\n2tyF6W5ZfBvYZUDxSJJmGXODJI2XNl2YXth4uhqwALhlYBFJ0kqKxYv7mj4XLhxQJHOXuUGSxleb\nuzA9t/H/HcASSlO1JGl8mRskaUy1uQbilasiEEnS7GFukKTxNWEBERHvn+R1mZkfHEA8kqQRZm6Q\nJE3WAnFjj2HrAK8G7geYJCRp/JgbJGnMTVhAZOanOv9HxLrA3sArgSOBT030OknS3GVukCRNeg1E\nRNwXeBvwMmAx8LjM/OuqCEySNJrMDZI03ia7BuITwAuBg4FHZuYNqywqSdJIMjdIkib7Ibm3Aw8C\n3gtcERHX18fSiLh+1YQnSRox5gZJGnOTXQPR169US5LmPnODJKnND8lJ0pT89WdJksaDBYSkoei3\n4JAkSaPBpmhJkiRJrVlASJIkSWrNAkKSJElSaxYQkiRJklqzgJAkSZLUmgWEJEmSpNYsICRJkiS1\nZgEhSZIkqTULCEmSJEmtWUBIkiRJas0CQpIkSVJrFhCSJEmSWrOAkCRJktSaBYQkSZKk1iwgJEmS\nJLVmASFJkiSpNQsISZIkSa1ZQEiSJElqbWQLiIhYEhFnR8RZEXFaHXbfiDg+Ii6sf9dvTL9vRFwU\nERdExC7Di1ySNCjmBkkavpEtIKqdMvMxmbmgPt8HOCEztwBOqM+JiK2APYBHALsCX4yIecMIWJI0\ncOYGSRqiUS8guu0GLK7/Lwae3xh+ZGbempkXAxcB2w4hPknSqmdukKRVaJQLiAR+HBGnR8ReddiG\nmXll/f8qYMP6/8bApY3XXlaHLSci9oqI0yLitGuvvXZQcUuSBsfcIElDtvqwA5jEkzPz8oh4AHB8\nRJzfHJmZGRHZzwwz82DgYIAFCxb09VpJ0kgwN0jSkI1sC0RmXl7/XgN8i9LsfHVEbARQ/15TJ78c\n2LTx8k3qMEnSHGJukKThG8kCIiLWiYh1O/8D/wScAxwLLKyTLQSOqf8fC+wREWtGxGbAFsApqzZq\nSdIgmRskaTSMahemDYFvRQSUGL+RmT+IiFOBoyLi1cAlwO4AmXluRBwFnAfcAbwxM+8cTuiSpAEx\nN0jSCBjJAiIz/wg8usfw64CdJ3jNh4EPDzg0SdKQmBskaTSMZBcmSZIkSaPJAkKSJElSaxYQkiRJ\nklqzgJAkSZLUmgWEJEmSpNYsICRJkiS1ZgEhSZIkqTULCEmSJEmtWUBIkiRJas0CQpIkSVJrFhCS\nJEmSWrOAkCRJktSaBYQkSZKk1iwgJEmSJLVmASFJkiSpNQsISZIkSa1ZQEiSJElqzQJCkiRJUmsW\nEJIkSZJas4CQJEmS1JoFhCRJkqTWLCAkSZIktWYBIUmSJKk1CwhJkiRJra0+7AAkSZKkUROLFw87\nhJFlC4QkSZKk1iwgJEmSJLVmASFJkiSpNa+BkNSTfT8lSVIvFhCSJEnSKtTvSbpcuHBAkUyPXZgk\nSZIktWYBIUmSJKk1CwhJkiRJrVlASJIkSWrNi6glaYT0c2HdqF1UJ0kaD7ZASJIkSWrNAkKSJElS\naxYQkiRJklqzgJAkSZLUmgWEJEmSpNYsICRJkiS1ZgEhSZIkqTULCEmSJEmtWUBIkiRJas0CQpIk\nSVJrFhCSJEmSWrOAkCRJktSaBYQkSZKk1iwgJEmSJLVmASFJkiSpNQsISZIkSa1ZQEiSJElqzQJC\nkiRJUmurDzsASatOLF487BAkSdIsZwuEJEmSpNZsgZCkPvTbipMLFw4oEkmShsMWCEmSJEmtWUBI\nkiRJas0CQpIkSVJrFhCSJEmSWvMiammEeIHucHh7W0mS2rMFQpIkSVJrFhCSJEmSWpszXZgiYlfg\ns8A84CuZ+bEhhyRJGjJzgzR32f10eOZEC0REzAO+ADwT2Ap4aURsNdyoJEnDZG6QpMGYKy0Q2wIX\nZeYfASLiSGA34LyhRiUNmGdfpEmZGyTNCaN2k5W5UkBsDFzaeH4Z8IQhxaJZZtQ+lJpbLPKGytwg\nzbBBH9PMsbNDZOawY1hpEfFiYNfMfE19/nLgCZn5pq7p9gL2qk8fBlwwzUXeH/jzNF87SubKeoDr\nMormynrA3FyXh2TmBsMOZpDMDSPBbdKb26U3t8uKVvU2aZUb5koLxOXApo3nm9Rhy8nMg4GDV3Zh\nEXFaZi5Y2fkM21xZD3BdRtFcWQ9wXWYxc8OQuU16c7v05nZZ0ahukzlxETVwKrBFRGwWEfcA9gCO\nHXJMkqThMjdI0gDMiRaIzLwjIt4E/JByq75DMvPcIYclSRoic4MkDcacKCAAMvN7wPdW0eJWuql7\nRMyV9QDXZRTNlfUA12XWMjcMndukN7dLb26XFY3kNpkTF1FLkiRJWjXmyjUQkiRJklYBC4g+RMSu\nEXFBRFwUEfsMO57piohNI+KnEXFeRJwbEXsPO6aVERHzIuLMiDhu2LGsjIi4T0QcHRHnR8TvIuKJ\nw45puiLiX+t765yIOCIi7jnsmNqKiEMi4pqIOKcx7L4RcXxEXFj/rj/MGNuaYF0+Ud9jv42Ib0XE\nfYYZ41wwV3LDTJpreWYmzZWcNZPmUv6bSaOcSy0gWoqIecAXgGcCWwEvjYithhvVtN0BvD0ztwK2\nA944i9cFYG/gd8MOYgZ8FvhBZm4JPJpZuk4RsTHwFmBBZm5NuXh1j+FG1ZdDgV27hu0DnJCZWwAn\n1OezwaGsuC7HA1tn5qOA3wP7ruqg5pI5lhtm0lzLMzNpruSsmTQn8t9MGvVcagHR3rbARZn5x8y8\nDTgS2G3IMU1LZl6ZmWfU/5dSPqgbDzeq6YmITYBnA18ZdiwrIyLWA3YAvgqQmbdl5t+GG9VKWR1Y\nKyJWB9YGrhhyPK1l5s+Av3QN3g3o/PzqYuD5qzSoaeq1Lpn5o8y8oz49mfLbCJq+OZMbZtJcyjMz\naa7krJk0B/PfTBrZXGoB0d7GwKWN55cxBw6GETEfeCzw6+FGMm3/AbwLuGvYgaykzYBrgf+qTdtf\niYh1hh3UdGTm5cAngT8BVwJ/z8wfDTeqlbZhZl5Z/78K2HCYwcygVwHfH3YQs9yczA0zaQ7kmZk0\nV3LWTJoz+W8mjXoutYAYYxFxL+B/gLdm5vXDjqdfEfEc4JrMPH3YscyA1YHHAQdl5mOBG5k93WSW\nU68P2I2SFB4ErBMRew43qpmT5dZ1s/72dRHxHko3k8OHHYvmrtmeZ2bSHMtZM2nO5L+ZNOq51AKi\nvcuBTRvPN6nDZqWIWINyUD88M/932PFM0/bA8yJiCaXbwNMi4rDhhjRtlwGXZWbnDN3RlAPqbPR0\n4OLMvDYzbwf+F3jSkGNaWVdHxEYA9e81Q45npUTEIuA5wMvSe3mvrDmVG2bSHMkzM2ku5ayZNJfy\n30wa6VxqAdHeqcAWEbFZRNyDciHLsUOOaVoiIih9DX+XmZ8edjzTlZn7ZuYmmTmfsj9+kpkjU533\nIzOvAi6NiIfVQTsD5w0xpJXxJ2C7iFi7vtd2ZvZfEHcssLD+vxA4ZoixrJSI2JXSheJ5mXnTsOOZ\nA+ZMbphJcyXPzKS5lLNm0hzLfzNppHPpnPkl6kHLzDsi4k3ADylXwh+SmecOOazp2h54OXB2RJxV\nh+1Xf7FVw/Nm4PD6JeSPwCuHHM+0ZOavI+Jo4AxKF5kzGdFf0uwlIo4AdgTuHxGXAfsDHwOOiohX\nA5cAuw8vwvYmWJd9gTWB40tO4uTMfP3Qgpzl5lhumEnmGfVjTuS/mTTqudRfopYkSZLUml2YJEmS\nJLVmASFJkiSpNQsISZIkSa1ZQEiSJElqzQJCkiRJUmsWENJKiIifRsQuXcPeGhEHTfKaGwYfmSRp\nWMwNmussIKSVcwTlB4Ga9qjDJUnjydygOc0CQlo5RwPPrj9+Q0TMBx4EnBkRJ0TEGRFxdkTs1v3C\niNgxIo5rPP98RCyq/28TESdFxOkR8cOI2GhVrIwkaUaYGzSnWUBIKyEz/wKcAjyzDtoDOAq4GXhB\nZj4O2An4VP0p+ilFxBrA54AXZ+Y2wCHAh2c6dknSYJgbNNetPuwApDmg01R9TP37aiCAj0TEDsBd\nwMbAhsBVLeb3MGBr4PiaV+YBV8582JKkATI3aM6ygJBW3jHAZyLiccDamXl6bW7eANgmM2+PiCXA\nPbtedwfLtwJ2xgdwbmY+cbBhS5IGyNygOcsuTNJKyswbgJ9SmpM7F8itB1xTE8ROwEN6vPQSYKuI\nWDMi7gPsXIdfAGwQEU+E0mwdEY8Y6EpIkmaUuUFzmS0Q0sw4AvgWy+66cTjwnYg4GzgNOL/7BZl5\naUQcBZwDXAycWYffFhEvBg6MiPUon9P/AM4d+FpIkmaSuUFzUmTmsGOQJEmSNEvYhUmSJElSaxYQ\nkiRJklqzgJAkSZLUmgWEJEmSpNYsICRJkiS1ZgEhSZIkqTULCEmSJEmtWUBIkiRJau3/A1O7qgqy\nlt95AAAAAElFTkSuQmCC\n",
      "text/plain": [
       "<matplotlib.figure.Figure at 0xd0d55c0>"
      ]
     },
     "metadata": {},
     "output_type": "display_data"
    }
   ],
   "source": [
    "# Log-transform the skewed features\n",
    "skewed = ['capital-gain', 'capital-loss']\n",
    "features_log_transformed = pd.DataFrame(data = features_raw)\n",
    "features_log_transformed[skewed] = features_raw[skewed].apply(lambda x: np.log(x + 1))\n",
    "\n",
    "# Visualize the new log distributions\n",
    "vs.distribution(features_log_transformed, transformed = True)"
   ]
  },
  {
   "cell_type": "markdown",
   "metadata": {},
   "source": [
    "### Normalizing Numerical Features\n",
    "In addition to performing transformations on features that are highly skewed, it is often good practice to perform some type of scaling on numerical features. Applying a scaling to the data does not change the shape of each feature's distribution (such as `'capital-gain'` or `'capital-loss'` above); however, normalization ensures that each feature is treated equally when applying supervised learners. Note that once scaling is applied, observing the data in its raw form will no longer have the same original meaning, as exampled below.\n",
    "\n",
    "Run the code cell below to normalize each numerical feature. We will use [`sklearn.preprocessing.MinMaxScaler`](http://scikit-learn.org/stable/modules/generated/sklearn.preprocessing.MinMaxScaler.html) for this."
   ]
  },
  {
   "cell_type": "code",
   "execution_count": 11,
   "metadata": {},
   "outputs": [
    {
     "data": {
      "text/html": [
       "<div>\n",
       "<style>\n",
       "    .dataframe thead tr:only-child th {\n",
       "        text-align: right;\n",
       "    }\n",
       "\n",
       "    .dataframe thead th {\n",
       "        text-align: left;\n",
       "    }\n",
       "\n",
       "    .dataframe tbody tr th {\n",
       "        vertical-align: top;\n",
       "    }\n",
       "</style>\n",
       "<table border=\"1\" class=\"dataframe\">\n",
       "  <thead>\n",
       "    <tr style=\"text-align: right;\">\n",
       "      <th></th>\n",
       "      <th>age</th>\n",
       "      <th>workclass</th>\n",
       "      <th>education_level</th>\n",
       "      <th>education-num</th>\n",
       "      <th>marital-status</th>\n",
       "      <th>occupation</th>\n",
       "      <th>relationship</th>\n",
       "      <th>race</th>\n",
       "      <th>sex</th>\n",
       "      <th>capital-gain</th>\n",
       "      <th>capital-loss</th>\n",
       "      <th>hours-per-week</th>\n",
       "      <th>native-country</th>\n",
       "    </tr>\n",
       "  </thead>\n",
       "  <tbody>\n",
       "    <tr>\n",
       "      <th>0</th>\n",
       "      <td>0.301370</td>\n",
       "      <td>State-gov</td>\n",
       "      <td>Bachelors</td>\n",
       "      <td>0.800000</td>\n",
       "      <td>Never-married</td>\n",
       "      <td>Adm-clerical</td>\n",
       "      <td>Not-in-family</td>\n",
       "      <td>White</td>\n",
       "      <td>Male</td>\n",
       "      <td>0.667492</td>\n",
       "      <td>0.0</td>\n",
       "      <td>0.397959</td>\n",
       "      <td>United-States</td>\n",
       "    </tr>\n",
       "    <tr>\n",
       "      <th>1</th>\n",
       "      <td>0.452055</td>\n",
       "      <td>Self-emp-not-inc</td>\n",
       "      <td>Bachelors</td>\n",
       "      <td>0.800000</td>\n",
       "      <td>Married-civ-spouse</td>\n",
       "      <td>Exec-managerial</td>\n",
       "      <td>Husband</td>\n",
       "      <td>White</td>\n",
       "      <td>Male</td>\n",
       "      <td>0.000000</td>\n",
       "      <td>0.0</td>\n",
       "      <td>0.122449</td>\n",
       "      <td>United-States</td>\n",
       "    </tr>\n",
       "    <tr>\n",
       "      <th>2</th>\n",
       "      <td>0.287671</td>\n",
       "      <td>Private</td>\n",
       "      <td>HS-grad</td>\n",
       "      <td>0.533333</td>\n",
       "      <td>Divorced</td>\n",
       "      <td>Handlers-cleaners</td>\n",
       "      <td>Not-in-family</td>\n",
       "      <td>White</td>\n",
       "      <td>Male</td>\n",
       "      <td>0.000000</td>\n",
       "      <td>0.0</td>\n",
       "      <td>0.397959</td>\n",
       "      <td>United-States</td>\n",
       "    </tr>\n",
       "    <tr>\n",
       "      <th>3</th>\n",
       "      <td>0.493151</td>\n",
       "      <td>Private</td>\n",
       "      <td>11th</td>\n",
       "      <td>0.400000</td>\n",
       "      <td>Married-civ-spouse</td>\n",
       "      <td>Handlers-cleaners</td>\n",
       "      <td>Husband</td>\n",
       "      <td>Black</td>\n",
       "      <td>Male</td>\n",
       "      <td>0.000000</td>\n",
       "      <td>0.0</td>\n",
       "      <td>0.397959</td>\n",
       "      <td>United-States</td>\n",
       "    </tr>\n",
       "    <tr>\n",
       "      <th>4</th>\n",
       "      <td>0.150685</td>\n",
       "      <td>Private</td>\n",
       "      <td>Bachelors</td>\n",
       "      <td>0.800000</td>\n",
       "      <td>Married-civ-spouse</td>\n",
       "      <td>Prof-specialty</td>\n",
       "      <td>Wife</td>\n",
       "      <td>Black</td>\n",
       "      <td>Female</td>\n",
       "      <td>0.000000</td>\n",
       "      <td>0.0</td>\n",
       "      <td>0.397959</td>\n",
       "      <td>Cuba</td>\n",
       "    </tr>\n",
       "  </tbody>\n",
       "</table>\n",
       "</div>"
      ],
      "text/plain": [
       "        age          workclass education_level  education-num  \\\n",
       "0  0.301370          State-gov       Bachelors       0.800000   \n",
       "1  0.452055   Self-emp-not-inc       Bachelors       0.800000   \n",
       "2  0.287671            Private         HS-grad       0.533333   \n",
       "3  0.493151            Private            11th       0.400000   \n",
       "4  0.150685            Private       Bachelors       0.800000   \n",
       "\n",
       "        marital-status          occupation    relationship    race      sex  \\\n",
       "0        Never-married        Adm-clerical   Not-in-family   White     Male   \n",
       "1   Married-civ-spouse     Exec-managerial         Husband   White     Male   \n",
       "2             Divorced   Handlers-cleaners   Not-in-family   White     Male   \n",
       "3   Married-civ-spouse   Handlers-cleaners         Husband   Black     Male   \n",
       "4   Married-civ-spouse      Prof-specialty            Wife   Black   Female   \n",
       "\n",
       "   capital-gain  capital-loss  hours-per-week  native-country  \n",
       "0      0.667492           0.0        0.397959   United-States  \n",
       "1      0.000000           0.0        0.122449   United-States  \n",
       "2      0.000000           0.0        0.397959   United-States  \n",
       "3      0.000000           0.0        0.397959   United-States  \n",
       "4      0.000000           0.0        0.397959            Cuba  "
      ]
     },
     "metadata": {},
     "output_type": "display_data"
    }
   ],
   "source": [
    "# Import sklearn.preprocessing.StandardScaler\n",
    "from sklearn.preprocessing import MinMaxScaler\n",
    "\n",
    "# Initialize a scaler, then apply it to the features\n",
    "scaler = MinMaxScaler() # default=(0, 1)\n",
    "numerical = ['age', 'education-num', 'capital-gain', 'capital-loss', 'hours-per-week']\n",
    "\n",
    "features_log_minmax_transform = pd.DataFrame(data = features_log_transformed)\n",
    "features_log_minmax_transform[numerical] = scaler.fit_transform(features_log_transformed[numerical])\n",
    "\n",
    "# Show an example of a record with scaling applied\n",
    "display(features_log_minmax_transform.head(n = 5))"
   ]
  },
  {
   "cell_type": "markdown",
   "metadata": {},
   "source": [
    "### Implementation: Data Preprocessing\n",
    "\n",
    "From the table in **Exploring the Data** above, we can see there are several features for each record that are non-numeric. Typically, learning algorithms expect input to be numeric, which requires that non-numeric features (called *categorical variables*) be converted. One popular way to convert categorical variables is by using the **one-hot encoding** scheme. One-hot encoding creates a _\"dummy\"_ variable for each possible category of each non-numeric feature. For example, assume `someFeature` has three possible entries: `A`, `B`, or `C`. We then encode this feature into `someFeature_A`, `someFeature_B` and `someFeature_C`.\n",
    "\n",
    "|   | someFeature |                    | someFeature_A | someFeature_B | someFeature_C |\n",
    "| :-: | :-: |                            | :-: | :-: | :-: |\n",
    "| 0 |  B  |  | 0 | 1 | 0 |\n",
    "| 1 |  C  | ----> one-hot encode ----> | 0 | 0 | 1 |\n",
    "| 2 |  A  |  | 1 | 0 | 0 |\n",
    "\n",
    "Additionally, as with the non-numeric features, we need to convert the non-numeric target label, `'income'` to numerical values for the learning algorithm to work. Since there are only two possible categories for this label (\"<=50K\" and \">50K\"), we can avoid using one-hot encoding and simply encode these two categories as `0` and `1`, respectively. In code cell below, you will need to implement the following:\n",
    " - Use [`pandas.get_dummies()`](http://pandas.pydata.org/pandas-docs/stable/generated/pandas.get_dummies.html?highlight=get_dummies#pandas.get_dummies) to perform one-hot encoding on the `'features_raw'` data.\n",
    " - Convert the target label `'income_raw'` to numerical entries.\n",
    "   - Set records with \"<=50K\" to `0` and records with \">50K\" to `1`."
   ]
  },
  {
   "cell_type": "code",
   "execution_count": 12,
   "metadata": {
    "scrolled": true
   },
   "outputs": [
    {
     "name": "stdout",
     "output_type": "stream",
     "text": [
      "103 total features after one-hot encoding.\n"
     ]
    }
   ],
   "source": [
    "# TODO: One-hot encode the 'features_log_minmax_transform' data using pandas.get_dummies()\n",
    "features_final = pd.get_dummies(features_log_minmax_transform)\n",
    "# TODO: Encode the 'income_raw' data to numerical values\n",
    "income = income_raw.apply(lambda x: 0 if x == '<=50K' else 1)\n",
    "\n",
    "# Print the number of features after one-hot encoding\n",
    "encoded = list(features_final.columns)\n",
    "print \"{} total features after one-hot encoding.\".format(len(encoded))\n",
    "\n",
    "# Uncomment the following line to see the encoded feature names\n",
    "#print encoded"
   ]
  },
  {
   "cell_type": "markdown",
   "metadata": {},
   "source": [
    "### Shuffle and Split Data\n",
    "Now all _categorical variables_ have been converted into numerical features, and all numerical features have been normalized. As always, we will now split the data (both features and their labels) into training and test sets. 80% of the data will be used for training and 20% for testing.\n",
    "\n",
    "Run the code cell below to perform this split."
   ]
  },
  {
   "cell_type": "code",
   "execution_count": 13,
   "metadata": {},
   "outputs": [
    {
     "name": "stdout",
     "output_type": "stream",
     "text": [
      "Training set has 36177 samples.\n",
      "Testing set has 9045 samples.\n"
     ]
    }
   ],
   "source": [
    "# Import train_test_split\n",
    "from sklearn.cross_validation import train_test_split\n",
    "\n",
    "# Split the 'features' and 'income' data into training and testing sets\n",
    "X_train, X_test, y_train, y_test = train_test_split(features_final, \n",
    "                                                    income, \n",
    "                                                    test_size = 0.2, \n",
    "                                                    random_state = 0)\n",
    "\n",
    "# Show the results of the split\n",
    "print \"Training set has {} samples.\".format(X_train.shape[0])\n",
    "print \"Testing set has {} samples.\".format(X_test.shape[0])"
   ]
  },
  {
   "cell_type": "markdown",
   "metadata": {},
   "source": [
    "----\n",
    "## Evaluating Model Performance\n",
    "In this section, we will investigate four different algorithms, and determine which is best at modeling the data. Three of these algorithms will be supervised learners of your choice, and the fourth algorithm is known as a *naive predictor*."
   ]
  },
  {
   "cell_type": "markdown",
   "metadata": {},
   "source": [
    "### Metrics and the Naive Predictor\n",
    "*CharityML*, equipped with their research, knows individuals that make more than \\$50,000 are most likely to donate to their charity. Because of this, *CharityML* is particularly interested in predicting who makes more than \\$50,000 accurately. It would seem that using **accuracy** as a metric for evaluating a particular model's performace would be appropriate. Additionally, identifying someone that *does not* make more than \\$50,000 as someone who does would be detrimental to *CharityML*, since they are looking to find individuals willing to donate. Therefore, a model's ability to precisely predict those that make more than \\$50,000 is *more important* than the model's ability to **recall** those individuals. We can use **F-beta score** as a metric that considers both precision and recall:\n",
    "\n",
    "$$ F_{\\beta} = (1 + \\beta^2) \\cdot \\frac{precision \\cdot recall}{\\left( \\beta^2 \\cdot precision \\right) + recall} $$\n",
    "\n",
    "In particular, when $\\beta = 0.5$, more emphasis is placed on precision. This is called the **F$_{0.5}$ score** (or F-score for simplicity).\n",
    "\n",
    "Looking at the distribution of classes (those who make at most \\$50,000, and those who make more), it's clear most individuals do not make more than \\$50,000. This can greatly affect **accuracy**, since we could simply say *\"this person does not make more than \\$50,000\"* and generally be right, without ever looking at the data! Making such a statement would be called **naive**, since we have not considered any information to substantiate the claim. It is always important to consider the *naive prediction* for your data, to help establish a benchmark for whether a model is performing well. That been said, using that prediction would be pointless: If we predicted all people made less than \\$50,000, *CharityML* would identify no one as donors. \n",
    "\n",
    "\n",
    "#### Note: Recap of accuracy, precision, recall\n",
    "\n",
    "** Accuracy ** measures how often the classifier makes the correct prediction. It’s the ratio of the number of correct predictions to the total number of predictions (the number of test data points).\n",
    "\n",
    "** Precision ** tells us what proportion of messages we classified as spam, actually were spam.\n",
    "It is a ratio of true positives(words classified as spam, and which are actually spam) to all positives(all words classified as spam, irrespective of whether that was the correct classificatio), in other words it is the ratio of\n",
    "\n",
    "`[True Positives/(True Positives + False Positives)]`\n",
    "\n",
    "** Recall(sensitivity)** tells us what proportion of messages that actually were spam were classified by us as spam.\n",
    "It is a ratio of true positives(words classified as spam, and which are actually spam) to all the words that were actually spam, in other words it is the ratio of\n",
    "\n",
    "`[True Positives/(True Positives + False Negatives)]`\n",
    "\n",
    "For classification problems that are skewed in their classification distributions like in our case, for example if we had a 100 text messages and only 2 were spam and the rest 98 weren't, accuracy by itself is not a very good metric. We could classify 90 messages as not spam(including the 2 that were spam but we classify them as not spam, hence they would be false negatives) and 10 as spam(all 10 false positives) and still get a reasonably good accuracy score. For such cases, precision and recall come in very handy. These two metrics can be combined to get the F1 score, which is weighted average(harmonic mean) of the precision and recall scores. This score can range from 0 to 1, with 1 being the best possible F1 score(we take the harmonic mean as we are dealing with ratios)."
   ]
  },
  {
   "cell_type": "markdown",
   "metadata": {},
   "source": [
    "### Question 1 - Naive Predictor Performace\n",
    "* If we chose a model that always predicted an individual made more than $50,000, what would  that model's accuracy and F-score be on this dataset? You must use the code cell below and assign your results to `'accuracy'` and `'fscore'` to be used later.\n",
    "\n",
    "** Please note ** that the the purpose of generating a naive predictor is simply to show what a base model without any intelligence would look like. In the real world, ideally your base model would be either the results of a previous model or could be based on a research paper upon which you are looking to improve. When there is no benchmark model set, getting a result better than random choice is a place you could start from.\n",
    "\n",
    "** HINT: ** \n",
    "\n",
    "* When we have a model that always predicts '1' (i.e. the individual makes more than 50k) then our model will have no True Negatives(TN) or False Negatives(FN) as we are not making any negative('0' value) predictions. Therefore our Accuracy in this case becomes the same as our Precision(True Positives/(True Positives + False Positives)) as every prediction that we have made with value '1' that should have '0' becomes a False Positive; therefore our denominator in this case is the total number of records we have in total. \n",
    "* Our Recall score(True Positives/(True Positives + False Negatives)) in this setting becomes 1 as we have no False Negatives."
   ]
  },
  {
   "cell_type": "code",
   "execution_count": 14,
   "metadata": {},
   "outputs": [
    {
     "name": "stdout",
     "output_type": "stream",
     "text": [
      "Naive Predictor: [Accuracy score: 0.2478, F-score: 0.2917]\n"
     ]
    }
   ],
   "source": [
    "'''\n",
    "TP = np.sum(income) # Counting the ones as this is the naive case. Note that 'income' is the 'income_raw' data \n",
    "encoded to numerical values done in the data preprocessing step.\n",
    "FP = income.count() - TP # Specific to the naive case\n",
    "\n",
    "TN = 0 # No predicted negatives in the naive case\n",
    "FN = 0 # No predicted negatives in the naive case\n",
    "'''\n",
    "#accuracy=(TP+TN)/total cases\n",
    "#recall =TP/(TP+FN)\n",
    "#Precision = TP/(TP+FP)\n",
    "# TODO: Calculate accuracy, precision and recall\n",
    "\n",
    "accuracy = float(np.sum(income))/income.count() #0.247843969749\n",
    "recall = float(np.sum(income))/(np.sum(income)+0.0) #1\n",
    "precision = float(np.sum(income))/income.count() #0.247843969749\n",
    "\n",
    "# TODO: Calculate F-score using the formula above for beta = 0.5 and correct values for precision and recall.\n",
    "# HINT: The formula above can be written as (1 + beta**2) * (precision * recall) / ((beta**2 * precision) + recall)\n",
    "fscore = (1 + 0.5**2) * (precision * recall) / ((0.5**2 * precision) + recall)\n",
    "\n",
    "# Print the results \n",
    "print \"Naive Predictor: [Accuracy score: {:.4f}, F-score: {:.4f}]\".format(accuracy, fscore)"
   ]
  },
  {
   "cell_type": "markdown",
   "metadata": {},
   "source": [
    "###  Supervised Learning Models\n",
    "**The following are some of the supervised learning models that are currently available in** [`scikit-learn`](http://scikit-learn.org/stable/supervised_learning.html) **that you may choose from:**\n",
    "- Gaussian Naive Bayes (GaussianNB)\n",
    "- Decision Trees\n",
    "- Ensemble Methods (Bagging, AdaBoost, Random Forest, Gradient Boosting)\n",
    "- K-Nearest Neighbors (KNeighbors)\n",
    "- Stochastic Gradient Descent Classifier (SGDC)\n",
    "- Support Vector Machines (SVM)\n",
    "- Logistic Regression"
   ]
  },
  {
   "cell_type": "markdown",
   "metadata": {},
   "source": [
    "### Question 2 - Model Application\n",
    "List three of the supervised learning models above that are appropriate for this problem that you will test on the census data. For each model chosen\n",
    "\n",
    "- Describe one real-world application in industry where the model can be applied. \n",
    "- What are the strengths of the model; when does it perform well?\n",
    "- What are the weaknesses of the model; when does it perform poorly?\n",
    "- What makes this model a good candidate for the problem, given what you know about the data?\n",
    "\n",
    "** HINT: **\n",
    "\n",
    "Structure your answer in the same format as above^, with 4 parts for each of the three models you pick. Please include references with your answer."
   ]
  },
  {
   "cell_type": "markdown",
   "metadata": {},
   "source": [
    "**Answer: ** \n",
    "\n",
    "**AdaBoost:** \n",
    "\n",
    "- It can used for Face detection (http://ijssst.info/Vol-12/No-4/paper1.pdf). Its a binary classification problem of still images in which a image region is classified as \"face\" or \"non-face\". \n",
    "- Its fast as single pass through each data in each round and no parameter to tune. It can use any weak learning algorithm like naive bayes, decision stumps therefore act as a meta-algorithm.\n",
    "- Adaboost is sensitive to noisy data and outliers\n",
    "- We can apply adaboost to this binary classification problem as it is not that large dataset yet preprocessed dataset. Based on our weak leaner overfitted can be avoided easily. Training time will be less\n",
    "\n",
    "**Gaussian Naive Bayes:**\n",
    "- Naive Bayes is popular for text classification and widely used for spam email filtering ( https://en.wikipedia.org/wiki/Naive_Bayes_spam_filtering )\n",
    "- This is simple to learn and very less number of parameter are required to estimate due to its defination which includes conditional independence among features.Even when this assumption is broken, it perform well as exact probabilites are not required to correctly classifiy rather  we are more interested in maximum likehood of label given set of feature.\n",
    "- If unseen feature value is given, and its probablity is not presented in our training dataset(means no feature-label combination was present) then it would incorrectly classify the label. Also it has strong assumption of conditional independence which is not true for most real life scenarios\n",
    "- This can be used for our dataset as we have large number of features and it will be faster. \n",
    "\n",
    "** Random Forest: **\n",
    "- Its ensemble method. This type of method was used in NetFlix prize competition which was to predict user rating of movies based on previous rating given without information about user and movies.( https://en.wikipedia.org/wiki/Netflix_Prize )\n",
    "- It is less likely to overfit and can handle high dimensional spaces and have very less influence on prediction due to outlier. They are fast to train and easy to tune.\n",
    "- They are difficult to interpret than decision trees. They are less accurate than boosting method and take more time on prediction.\n",
    "- We should use this as it less prone to overfitting than Decision trees, run faster for our dataset of 103 features and more than 36000 thousand samples. \n",
    "\n",
    "\n"
   ]
  },
  {
   "cell_type": "markdown",
   "metadata": {},
   "source": [
    "### Implementation - Creating a Training and Predicting Pipeline\n",
    "To properly evaluate the performance of each model you've chosen, it's important that you create a training and predicting pipeline that allows you to quickly and effectively train models using various sizes of training data and perform predictions on the testing data. Your implementation here will be used in the following section.\n",
    "In the code block below, you will need to implement the following:\n",
    " - Import `fbeta_score` and `accuracy_score` from [`sklearn.metrics`](http://scikit-learn.org/stable/modules/classes.html#sklearn-metrics-metrics).\n",
    " - Fit the learner to the sampled training data and record the training time.\n",
    " - Perform predictions on the test data `X_test`, and also on the first 300 training points `X_train[:300]`.\n",
    "   - Record the total prediction time.\n",
    " - Calculate the accuracy score for both the training subset and testing set.\n",
    " - Calculate the F-score for both the training subset and testing set.\n",
    "   - Make sure that you set the `beta` parameter!"
   ]
  },
  {
   "cell_type": "code",
   "execution_count": 22,
   "metadata": {
    "collapsed": true
   },
   "outputs": [],
   "source": [
    "# TODO: Import two metrics from sklearn - fbeta_score and accuracy_score\n",
    "from sklearn.metrics import fbeta_score, accuracy_score\n",
    "\n",
    "def train_predict(learner, sample_size, X_train, y_train, X_test, y_test): \n",
    "    '''\n",
    "    inputs:\n",
    "       - learner: the learning algorithm to be trained and predicted on\n",
    "       - sample_size: the size of samples (number) to be drawn from training set\n",
    "       - X_train: features training set\n",
    "       - y_train: income training set\n",
    "       - X_test: features testing set\n",
    "       - y_test: income testing set\n",
    "    '''\n",
    "    \n",
    "    results = {}\n",
    "    \n",
    "    # TODO: Fit the learner to the training data using slicing with 'sample_size' using .fit(training_features[:], training_labels[:])\n",
    "    start = time() # Get start time\n",
    "    learner.fit(X_train[:sample_size],y_train[:sample_size])\n",
    "    end = time() # Get end time\n",
    "    \n",
    "    # TODO: Calculate the training time\n",
    "    results['train_time'] = end - start\n",
    "        \n",
    "    # TODO: Get the predictions on the test set(X_test),\n",
    "    #       then get predictions on the first 300 training samples(X_train) using .predict()\n",
    "    start = time() # Get start time\n",
    "    predictions_test = learner.predict(X_test)\n",
    "    predictions_train = learner.predict(X_train[:300])\n",
    "    end = time() # Get end time\n",
    "    \n",
    "    # TODO: Calculate the total prediction time\n",
    "    results['pred_time'] = end - start\n",
    "            \n",
    "    # TODO: Compute accuracy on the first 300 training samples which is y_train[:300]\n",
    "    results['acc_train'] = accuracy_score(y_train[:300], predictions_train)\n",
    "        \n",
    "    # TODO: Compute accuracy on test set using accuracy_score()\n",
    "    results['acc_test'] = accuracy_score(y_test, predictions_test)\n",
    "    \n",
    "    # TODO: Compute F-score on the the first 300 training samples using fbeta_score()\n",
    "    results['f_train'] = fbeta_score(y_train[:300], predictions_train, beta=0.5)\n",
    "        \n",
    "    # TODO: Compute F-score on the test set which is y_test\n",
    "    results['f_test'] = fbeta_score(y_test, predictions_test, beta=0.5)\n",
    "       \n",
    "    # Success\n",
    "    print \"{} trained on {} samples.\".format(learner.__class__.__name__, sample_size)\n",
    "        \n",
    "    # Return the results\n",
    "    return results"
   ]
  },
  {
   "cell_type": "markdown",
   "metadata": {},
   "source": [
    "### Implementation: Initial Model Evaluation\n",
    "In the code cell, you will need to implement the following:\n",
    "- Import the three supervised learning models you've discussed in the previous section.\n",
    "- Initialize the three models and store them in `'clf_A'`, `'clf_B'`, and `'clf_C'`.\n",
    "  - Use a `'random_state'` for each model you use, if provided.\n",
    "  - **Note:** Use the default settings for each model — you will tune one specific model in a later section.\n",
    "- Calculate the number of records equal to 1%, 10%, and 100% of the training data.\n",
    "  - Store those values in `'samples_1'`, `'samples_10'`, and `'samples_100'` respectively.\n",
    "\n",
    "**Note:** Depending on which algorithms you chose, the following implementation may take some time to run!"
   ]
  },
  {
   "cell_type": "code",
   "execution_count": 23,
   "metadata": {},
   "outputs": [
    {
     "name": "stdout",
     "output_type": "stream",
     "text": [
      "AdaBoostClassifier trained on 361 samples.\n",
      "AdaBoostClassifier trained on 3617 samples.\n",
      "AdaBoostClassifier trained on 36177 samples.\n",
      "GaussianNB trained on 361 samples.\n",
      "GaussianNB trained on 3617 samples.\n",
      "GaussianNB trained on 36177 samples.\n",
      "RandomForestClassifier trained on 361 samples.\n",
      "RandomForestClassifier trained on 3617 samples.\n",
      "RandomForestClassifier trained on 36177 samples.\n"
     ]
    },
    {
     "data": {
      "image/png": "iVBORw0KGgoAAAANSUhEUgAAAxAAAAIuCAYAAAAv/u6UAAAABHNCSVQICAgIfAhkiAAAAAlwSFlz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\n1JkFhCRJkqTO/j/S6Avlmf1MewAAAABJRU5ErkJggg==\n",
      "text/plain": [
       "<matplotlib.figure.Figure at 0x3859b70>"
      ]
     },
     "metadata": {},
     "output_type": "display_data"
    }
   ],
   "source": [
    "# TODO: Import the three supervised learning models from sklearn\n",
    "from sklearn.ensemble import AdaBoostClassifier\n",
    "from sklearn.naive_bayes import GaussianNB\n",
    "from sklearn.ensemble import RandomForestClassifier\n",
    "\n",
    "# TODO: Initialize the three models\n",
    "clf_A = AdaBoostClassifier(random_state=0)\n",
    "clf_B = GaussianNB()\n",
    "clf_C = RandomForestClassifier(random_state=0)\n",
    "\n",
    "# TODO: Calculate the number of samples for 1%, 10%, and 100% of the training data\n",
    "# HINT: samples_100 is the entire training set i.e. len(y_train)\n",
    "# HINT: samples_10 is 10% of samples_100\n",
    "# HINT: samples_1 is 1% of samples_100\n",
    "samples_100 = len(y_train)\n",
    "samples_10 = int(len(y_train)/10)\n",
    "samples_1 = int(len(y_train)/100)\n",
    "\n",
    "# Collect results on the learners\n",
    "results = {}\n",
    "for clf in [clf_A, clf_B, clf_C]:\n",
    "    clf_name = clf.__class__.__name__\n",
    "    results[clf_name] = {}\n",
    "    for i, samples in enumerate([samples_1, samples_10, samples_100]):\n",
    "        results[clf_name][i] = \\\n",
    "        train_predict(clf, samples, X_train, y_train, X_test, y_test)\n",
    "\n",
    "# Run metrics visualization for the three supervised learning models chosen\n",
    "vs.evaluate(results, accuracy, fscore)"
   ]
  },
  {
   "cell_type": "markdown",
   "metadata": {},
   "source": [
    "----\n",
    "## Improving Results\n",
    "In this final section, you will choose from the three supervised learning models the *best* model to use on the student data. You will then perform a grid search optimization for the model over the entire training set (`X_train` and `y_train`) by tuning at least one parameter to improve upon the untuned model's F-score. "
   ]
  },
  {
   "cell_type": "markdown",
   "metadata": {},
   "source": [
    "### Question 3 - Choosing the Best Model\n",
    "\n",
    "* Based on the evaluation you performed earlier, in one to two paragraphs, explain to *CharityML* which of the three models you believe to be most appropriate for the task of identifying individuals that make more than \\$50,000. \n",
    "\n",
    "** HINT: ** \n",
    "Look at the graph at the bottom left from the cell above(the visualization created by `vs.evaluate(results, accuracy, fscore)`) and check the F score for the testing set when 100% of the training set is used. Which model has the highest score? Your answer should include discussion of the:\n",
    "* metrics - F score on the testing when 100% of the training data is used, \n",
    "* prediction/training time\n",
    "* the algorithm's suitability for the data."
   ]
  },
  {
   "cell_type": "markdown",
   "metadata": {},
   "source": [
    "**Answer: ** Most appropriate model for this is Adaboost. F-score on testing set for adaboost is 0.7,  higher than  GaussianNB(0.4) and  slightly higher than Random Forest(0.65) . \n",
    "\n",
    "Adaboost is slower to train than other and also slower in predicting but for our study we dont require model to give prediction real time. We are more interested in achieving high accuracy and precision.\n",
    "\n",
    "With Adaboost, we were able to use full training dataset and train the model in about 2 secs with highest testing F-score and no overfitting. Random Forest seems to overfit the dataset."
   ]
  },
  {
   "cell_type": "markdown",
   "metadata": {},
   "source": [
    "### Question 4 - Describing the Model in Layman's Terms\n",
    "\n",
    "* In one to two paragraphs, explain to *CharityML*, in layman's terms, how the final model chosen is supposed to work. Be sure that you are describing the major qualities of the model, such as how the model is trained and how the model makes a prediction. Avoid using advanced mathematical jargon, such as describing equations.\n",
    "\n",
    "** HINT: **\n",
    "\n",
    "When explaining your model, if using external resources please include all citations."
   ]
  },
  {
   "cell_type": "markdown",
   "metadata": {},
   "source": [
    "**Answer: ** Adaboost is ensemble learner means it use multiple learning algorithm to obtain better predictions.It takes a weak learner that is able to predict better than random guess consistently. It produces a highly accurate by calling the weak learner repeatedly on cleverly chosen dataset. Weak learner can be any algorithm like naive bayes, decision stumps etc.\n",
    "\n",
    "Adaboost is trained recursively on dataset. Model attempt to classify correctly using the provided weak learner.Initally equal weights are assigned to each observations.We will have prediction error which it will try to reduce in next round and to do that it concentrate more on those observations which are missclassified by the previous weak learner. This is repeated for number of iteration defined by user.\n",
    "\n",
    "Finally, weak learner are combined into  single prediction by majority voting(weighted)\n"
   ]
  },
  {
   "cell_type": "markdown",
   "metadata": {},
   "source": [
    "### Implementation: Model Tuning\n",
    "Fine tune the chosen model. Use grid search (`GridSearchCV`) with at least one important parameter tuned with at least 3 different values. You will need to use the entire training set for this. In the code cell below, you will need to implement the following:\n",
    "- Import [`sklearn.grid_search.GridSearchCV`](http://scikit-learn.org/0.17/modules/generated/sklearn.grid_search.GridSearchCV.html) and [`sklearn.metrics.make_scorer`](http://scikit-learn.org/stable/modules/generated/sklearn.metrics.make_scorer.html).\n",
    "- Initialize the classifier you've chosen and store it in `clf`.\n",
    " - Set a `random_state` if one is available to the same state you set before.\n",
    "- Create a dictionary of parameters you wish to tune for the chosen model.\n",
    " - Example: `parameters = {'parameter' : [list of values]}`.\n",
    " - **Note:** Avoid tuning the `max_features` parameter of your learner if that parameter is available!\n",
    "- Use `make_scorer` to create an `fbeta_score` scoring object (with $\\beta = 0.5$).\n",
    "- Perform grid search on the classifier `clf` using the `'scorer'`, and store it in `grid_obj`.\n",
    "- Fit the grid search object to the training data (`X_train`, `y_train`), and store it in `grid_fit`.\n",
    "\n",
    "**Note:** Depending on the algorithm chosen and the parameter list, the following implementation may take some time to run!"
   ]
  },
  {
   "cell_type": "code",
   "execution_count": 32,
   "metadata": {
    "scrolled": true
   },
   "outputs": [
    {
     "name": "stdout",
     "output_type": "stream",
     "text": [
      "Unoptimized model\n",
      "------\n",
      "Accuracy score on testing data: 0.8576\n",
      "F-score on testing data: 0.7246\n",
      "\n",
      "Optimized Model\n",
      "------\n",
      "Final accuracy score on the testing data: 0.8664\n",
      "Final F-score on the testing data: 0.7432\n"
     ]
    }
   ],
   "source": [
    "# TODO: Import 'GridSearchCV', 'make_scorer', and any other necessary libraries\n",
    "from sklearn.model_selection import GridSearchCV\n",
    "from sklearn.metrics import make_scorer\n",
    "# TODO: Initialize the classifier\n",
    "clf = AdaBoostClassifier(random_state=0)\n",
    "\n",
    "# TODO: Create the parameters list you wish to tune, using a dictionary if needed.\n",
    "# HINT: parameters = {'parameter_1': [value1, value2], 'parameter_2': [value1, value2]}\n",
    "parameters = {'n_estimators':[50,100,200,500],\n",
    "              'learning_rate':[1,0.5,0.1]          \n",
    "             }\n",
    "\n",
    "# TODO: Make an fbeta_score scoring object using make_scorer()\n",
    "scorer = make_scorer(fbeta_score, beta=0.5)\n",
    "\n",
    "# TODO: Perform grid search on the classifier using 'scorer' as the scoring method using GridSearchCV()\n",
    "grid_obj = GridSearchCV(clf,param_grid=parameters,scoring=scorer)\n",
    "\n",
    "# TODO: Fit the grid search object to the training data and find the optimal parameters using fit()\n",
    "grid_fit = grid_obj.fit(X_train,y_train)\n",
    "\n",
    "# Get the estimator\n",
    "best_clf = grid_fit.best_estimator_\n",
    "\n",
    "# Make predictions using the unoptimized and model\n",
    "predictions = (clf.fit(X_train, y_train)).predict(X_test)\n",
    "best_predictions = best_clf.predict(X_test)\n",
    "\n",
    "# Report the before-and-afterscores\n",
    "print \"Unoptimized model\\n------\"\n",
    "print \"Accuracy score on testing data: {:.4f}\".format(accuracy_score(y_test, predictions))\n",
    "print \"F-score on testing data: {:.4f}\".format(fbeta_score(y_test, predictions, beta = 0.5))\n",
    "print \"\\nOptimized Model\\n------\"\n",
    "print \"Final accuracy score on the testing data: {:.4f}\".format(accuracy_score(y_test, best_predictions))\n",
    "print \"Final F-score on the testing data: {:.4f}\".format(fbeta_score(y_test, best_predictions, beta = 0.5))"
   ]
  },
  {
   "cell_type": "markdown",
   "metadata": {},
   "source": [
    "### Question 5 - Final Model Evaluation\n",
    "\n",
    "* What is your optimized model's accuracy and F-score on the testing data? \n",
    "* Are these scores better or worse than the unoptimized model? \n",
    "* How do the results from your optimized model compare to the naive predictor benchmarks you found earlier in **Question 1**?_  \n",
    "\n",
    "**Note:** Fill in the table below with your results, and then provide discussion in the **Answer** box."
   ]
  },
  {
   "cell_type": "markdown",
   "metadata": {},
   "source": [
    "#### Results:\n",
    "\n",
<<<<<<< HEAD
    "|     Metric     | Benchmark Predictor | Unoptimized Model | Optimized Model |\n",
    "| :------------: | :-----------------: | :---------------: | :-------------: | \n",
    "| Accuracy Score |         0.2478      |     0.8576        |     0.8664      |\n",
    "| F-score        |         0.2917      |     0.7246        |     0.7432      |\n"
=======
    "|     Metric     | Unoptimized Model | Optimized Model |\n",
    "| :------------: | :---------------: | :-------------: | \n",
    "| Accuracy Score |                   |                 |\n",
    "| F-score        |                   |   EXAMPLE       |\n"
>>>>>>> f42bead3f5ddbc4993f5754e32db79db14caed2f
   ]
  },
  {
   "cell_type": "markdown",
   "metadata": {},
   "source": [
    "**Answer: ** Optimized model accuracy scrore and F-score are 0.8664 and 0.7432 resepectively. Optimized model perform slightly better than unoptimized but signigicantally better than naive predictor benchmarks."
   ]
  },
  {
   "cell_type": "markdown",
   "metadata": {},
   "source": [
    "----\n",
    "## Feature Importance\n",
    "\n",
    "An important task when performing supervised learning on a dataset like the census data we study here is determining which features provide the most predictive power. By focusing on the relationship between only a few crucial features and the target label we simplify our understanding of the phenomenon, which is most always a useful thing to do. In the case of this project, that means we wish to identify a small number of features that most strongly predict whether an individual makes at most or more than \\$50,000.\n",
    "\n",
    "Choose a scikit-learn classifier (e.g., adaboost, random forests) that has a `feature_importance_` attribute, which is a function that ranks the importance of features according to the chosen classifier.  In the next python cell fit this classifier to training set and use this attribute to determine the top 5 most important features for the census dataset."
   ]
  },
  {
   "cell_type": "markdown",
   "metadata": {},
   "source": [
    "### Question 6 - Feature Relevance Observation\n",
    "When **Exploring the Data**, it was shown there are thirteen available features for each individual on record in the census data. Of these thirteen records, which five features do you believe to be most important for prediction, and in what order would you rank them and why?"
   ]
  },
  {
   "cell_type": "markdown",
   "metadata": {},
   "source": [
    "**Answer:** \n",
    "\n",
    "* **age**: Higher the age,more experience a person has. It should show strong positive relation with income\n",
    "* **occupation**: Some occupation have higher income for example Exec-managerial should have higher income than Handlers-cleaners.\n",
    "* **education**: People with higher level of education should have better income even in industry with lesser average income.\n",
    "* **capital-gain and capital-loss**:  Higher capital gain should be positively related to income as this show how much profit a person is making"
   ]
  },
  {
   "cell_type": "markdown",
   "metadata": {},
   "source": [
    "### Implementation - Extracting Feature Importance\n",
    "Choose a `scikit-learn` supervised learning algorithm that has a `feature_importance_` attribute availble for it. This attribute is a function that ranks the importance of each feature when making predictions based on the chosen algorithm.\n",
    "\n",
    "In the code cell below, you will need to implement the following:\n",
    " - Import a supervised learning model from sklearn if it is different from the three used earlier.\n",
    " - Train the supervised model on the entire training set.\n",
    " - Extract the feature importances using `'.feature_importances_'`."
   ]
  },
  {
   "cell_type": "code",
   "execution_count": 29,
   "metadata": {},
   "outputs": [
    {
     "data": {
      "image/png": "iVBORw0KGgoAAAANSUhEUgAAAoAAAAFgCAYAAAArYcg8AAAABHNCSVQICAgIfAhkiAAAAAlwSFlz\nAAALEgAACxIB0t1+/AAAIABJREFUeJzt3Xe4FdXZ9/HvLSBFEBSxgoIJNhQRD0iJBDUKGlseC9ZI\nohJUovhEXzFF0WhiokkQo8ESgp0IBOKjRIkKFooURURAAUVFVIqigICU+/1jrX0YNvuUDefsc2B+\nn+s619kzs2Zm7Wn7nlVmzN0RERERkfTYqaozICIiIiKFpQBQREREJGUUAIqIiIikjAJAERERkZRR\nACgiIiKSMgoARURERFJGAWA1Z2Y9zczNbLmZ7ZY1rWac1r+KsrfVEt+reWLcAjMbUpV5yJHmfjNb\nbWY7Z43vEed9Ksc8w8xsiZlZnvnZqn1pZl3jvD8oI10jM+tvZm3zXUcpyzzNzN42szUxD40qatk5\n1uUl/D2WSLPQzB6qoPUdn8/+iOvOlb9xiTSTzOy5ishfHvkaGvMxv4Tpv4/T11fCumvGY65LOdP3\nztp2K8zszTi+0n+vzOwOM1uTGK4T89Evz+VcZ2anl7X8QsixTZN/36ukdZ5tZldXxrKl4tSs6gxI\nuTUEbgDyuhBtZ34EfF3VmcjyCtALaA+8lhjfBfgGODbHPMcCr3r+D9nsCCzcmkyWUyPg5riON7Z1\nYWZWE3gcmABcBXwLrNjW5ZZhCHB/1rglic+nAV9V0LqOB34F9M9jntHAb7PGJY/pS4EN25atrbIS\nONDMOrv7+MzIGFRdRNhv9SphvTUJx9x6wrlUXqcT9mtD4Hzgb8DuwO8qOoNlWEs4Lz/Kc77rgGeA\np7PG3wv8qwLytTUy2zTpnUpa19lAETCwkpYvFUAB4PZjDPBzM/uLu39eGSsws9ruvrYyll0e7v5m\nVa27FC/H/13YMgB8ELjGzA5y9/cAzOxgYC/y+7EDwN0nbWNeC20/oAHwlLvn/X2zmVkNwNy9tJKo\nT0rbTuU5hir5OF9SRv4q6we3LJ8DbwEXA+MT448H9gGeAC6ognyV5E13z9wMPW9mBwF9KSEAjKXt\ntdz924rMRLyJq7Dz0t0/Bj6uqOXlKblNtzvlvD5IHlQFvP24Lf7/dVkJzay9mb1gZivNbJWZvWhm\n7bPSDIlVVh3NbIKZrQb+GKctMLPHzOxiM3s3VoG+amYtzWyXWC26zMw+N7M/xZKgzHLrmNlfzGxm\nXP9nZvZ/ZnZIOfJdXAVsZs1LqbYYl5inppndaGZzzGytmS2KeaqTtewDzexZM/vGQvXs3UDtsvIU\nL5gfEAK+zLJ2B1oRfjQ/TE5LfH45MQ4z62Vmb8Wq0qVm9ve4nGSaLaqAzez8+N3WWKhqPd3MxiW3\nQUI9M/trXP7SuA8bZbZn/B4ADya2Zc84vVs8Dr6K++1dM7uppO0S87kgDv49uV8suDYu41sz+zTm\na9cc3/d2M+tnZh8QShCPKGmd5WFZVcBmdllcT2czG2FmXxEDIDPrEM+TL+JxMd/M7onTbiOU/iWr\nnrf5h8cSVcBmdoCZbTSzXjnS3RT3eaPEuB5mNjnm9UsLVbv75bH6R4BzbfPmDD8GXgQW5chDbQtV\nlh/G/fiBherc5Pley0IV8vuJY/tVMzsmnoOrY9LfJrbj1tRiTAWaZI6heF15yEL15nvAOuCEOK1B\nvAZk8j3fzP6f2eZNMixcJyfEfH+cK19WQhWwmR1tZk/HY2e1mc02s+syeSPcBF6a+M6D4rTsKuZ5\nZvZEjvV2ifOdnLXOZyw0B1ptZq+YWcet2JY5mdleZvZgPF/XmtksM/tJVpp9Ypp5MQ8fmdkjZrZ3\nIs1QoAfwncT3nxOnZaqj985abklV7zeZ2W/M7EPC9aFlHnndz8weT6RZFPfZZk2p0kwlgNuPT4G/\nAn3N7C53/zBXIjNrTQg+ZgE9ASdUG79sZh3c/a1E8obAUOAu4JdsulhDCGS+Q6h23hkYAIwA3gfm\nAefFNL8G5gP3xflqA7sCvwc+AXYDrgQmmtmh7v5ZHt83++LWCngAmJ0Y9xih2u8PhKrIQwlVcM2B\ns+I22Rn4L1CXUFW5GPgZ8D/lzMsrwP+YWQ1330Co4v2GUI36KmE7ZIKOLoQqyOLtbGZ3AL8gVIdc\nTyg5uw043Mw6xWVuwcxOJFSxPg38L9CEsB/qAO/lmOVuQrXTBcDBhIB+A3AJYXv+D6H66fdsqpqa\nb2YHxuHhwK1sutAeWMo2eQiYCQyL3+VZNlV13g7cSKju+j/gMMI+OdLMvu/uGxPL6Uk4pq4DVpEj\nEMliyQAEoJwlAk8SAva/ATXMrCHwH2AiIQhaSThmOsT0gwj7qSebjsPyVOlvkT9gQ67mAO7+oZm9\nQqiCfSBr8kXA/7n78rjQvsCfCaXONxOq828FxppZG3f/phx5e4pwjJwK/MvMdiEcEz8jd+D9JOHc\n+i2hFKwL8Btgf+CnMc1NhHPqRsLx0JDQXGJ3QvXp9wnXo/sJ1feQf3UqhGPxWza/Rp0MtIt5WgbM\ni+f6C0CLmO/ZQGfCMdqQTUH93jHdh4RS0Q2Ea92+ZWXEQru5F+KyryYcswfHP4BTCNeb1wjnGoQS\n2FweA643s/ruvjIx/mLgM0LND2bWARhL2A+XAmuAPsBLZtbe3d8uK9+E4z55bG7MnIsxKJoYx/+a\nsI9+SLi5q+nuD8ZpexDO0xsJ19H9CNe0V8yslbuvi/M3Bg4BzonzJfdbPn4GvEso/V0DLM4jr0Nj\nPv6X8Fu0N3Ai4fopAO6uv2r8x6Yg7ruEi+pyYHCcVjNO659IPzymaZQYtyvwBfCvxLghcd4zcqxz\nQUzfMDHu6pj+oay0bwBjS8l/DULbohXAtTm+V/Os9Q4pYTlNCIHCBKBOHHdsXMaPs9JeGMe3icOX\nx+EOiTQ7Edq/bJaHEtb9k5iuKA7/CXghfu4FLEik/RB4NjHcnPDjclPWMjvHZZ6ZGJe9LycQflQt\nMe7omG5cYlzXOO7hrHX8lXDRtEReHLgsK93ZcfyueR6b343z9UyMy/zwD8lKe1FMe3rW910E1C3n\n+ryEv+8m0ixMHqPAZTHNnVnL6hDHH1bK+m4j1gKWM38LS8hf10SaScBzieFLgY1sfh5k8nZ6HG5E\n+NG9L2t9BxHa1vUuI19DgXnx81PAqPj5x4SgvR5wB7A+MU9RzEO/XNsEODgOvwA8Ucq668T0vy7n\nNuwd0x9AuL41Bn4et9HQRLrPCNeUPbLmvzymPSZr/G8JQUijxDm8Gtg7kaYh4dq5Jkf++yXGTSZc\ni+qU8j0+I+taGcffkbX878TlX5K1zuXAnxPjxhNuKmsmxtUi3HwPLSkfWds0+++FRJrb4zHWPGve\nRwnn6E4lLLsm4WbRgZNzHXMl5GXvrPHZ2yWz3RcAO2elLTOvgBFuGHqV9/xN45+qgLcj7v4F4cL1\nYwttzXLpAjzjseQgzvc1oYTn+1lp1xFKjHKZ6O7JxvRz4v/ns9LNAZolR5jZuWb2upktJ/xArQLq\ns+kOOS/xrn5kHDzD3TNVBd0JJ/lwC1XBNeMd7pg4PVMd2xH42BNtszzc+W7Rg7cEmfZtXRL/X42f\nXwMOMLNmZnYAoXQkWf17IuGC9HhWHl8n/IDl7B1pob1LETDC49Ut5nsam6pysz2bNfw2oUR2rzK+\n33TCsTDUQu+9PctIX5oOhBLjx7LGDyUcC9nH4HPunk/pwGBCqU/yrzxtqkZmDb9LCH4eNLMLzaxp\nHnkozTM58jetlPTDCAHzRYlxFwNLCSWUEG506rHlMfR+/CtXD9voEeAUM2tMCABHeO7Sw8wys/fj\nY1nTpwBnmtmtZtbJzGrlkZfSLCAck0uBvwD/IAQPSa+6+9Kscd0JpePTclwT6hBKJyFcE171RI1E\nvN79h1JYqJJvBzySuA5tNXefT7jRuzgx+jRCMPpoXOeuMb//jMOZ7+TAS5R///+QzY/LKxPTuhOu\nZQuzttvzhDai343rNjO72kJzlJWEfZSpjdiq63sZRvuW7TrLzGu8Zk4DfmlmfcysVSXkbbunAHD7\n8xdC6dytJUzfnVDdl+0zQnVs0hIvofoR+DJr+NtSxhcXqZvZaYQL1WxCVeQxhIvNEra+6P0h4HDg\nh+6e7MW2JyHYWEW4EGX+FsfpjeP/fchdBVOuzjTxIv0J0MXM6gNHsSkAnE2ofvo+my7EyQ4RmWBq\nXlYe1xE6UDQmtz0Id/iLc0wrKd9fZA1nOjqUut3dfR7QjXA9eBT4zEJbtexgrTwy7Ro3OwY9VNMu\nS0wnV7py+NTdp2b9ladDR3Z+vgSOI2zLQcDH8UftzDzzk21ZjvyV2DM63pz9mxgAxgCqB6FUZ11M\nljmGXmPLY6glJR9DuTxHOIevI3z/R0pIl9lP2U02Psua3p9QInM2oZRqaWybta3trDLByiHALu5+\nafKmNsp17OxJCESyt1PmnNzWa0Jm/orsTPEocJxtas95MTDTN3VoakIo0bqdLb/XZZR//8/IOi6T\nzUj2BE7KsfxH4/TMOq4jNEN5lvDUhvZsuqmrjKrVkvZxefL6I8Lx/itgpoX2wTea5fd4rh2Z2gBu\nZ9x9pZn9nlASeGeOJF8Q2jpk25stgzfPkW5bnUco+u+ZGRF/1LJ/+MvFzH5JeAzEye4+O2vyMkIV\nZ65HscCm9mSfEtoPZiurZCzpFcJF53uEKqZJEOoHzew1QvBnhLaByRKfZfH/SWy5/ZPTsy0lXNRy\nlcbtxda1oyqRu48ltCerTaievhV41sya5yhlKU0mCN2bxCMm4h16Y7YMUivjGMxli/W4+xuEtp01\nCcHGrwilyYe7+5zs9JXoUaCHmbUjBCaN2fRjBpuOkQuAuTnmL/ejk9x9vZk9Cfw/QhAzroSkmf20\nF+HmJ2Pv5PQYfN8O3G5m+xAeNfInwo3ZJeXNVw4zvOweq7mOnWWE0t2LckyDUGIK4ZqQ6/wv65qQ\n2Rf5dL4pyz8JbTMvMLPBhBKuZGe/zL74E6EkPVtFnEPLCDep15cwPXM+nEcolSvuFGNmh+axnkyp\n6c5Z40sKYkvax2XmNZbu9gZ6m9lhhKY8vyPcxPwjjzzvsBQAbp/uIzRsvS3HtJcJVTwNMiUPZtaA\nUK0wrgB5q0eo6ku6mNAWMC9mdhbhO/Z29xdyJHmO0HC7obu/WMqiJgI/iZ1gJsVl7wScm0d2XiEE\nolcAb2RVm71GuBM3YEKi5AZCY/CNwP7u/t/yrszdN5jZVOAsM+ufqQY2s6MJDdy3JgDMlJTVLWW9\nawkNy+sTSqZaEILR8ppEKBU+j9C7NKMH4XozLo9lFUQsnZxoodfzDwkdieYQt5eZ1c2zmjpfzxNK\nei8mBIDvuvvkxPRXCO3VDnT3JytgfQ8R2oM+m2xekCXTjOE8QuCRcWHW9GLu/ilwv5mdQSixh3As\nOKUccxXsOUIA9WUsuS/JROBKM9s7Uw0cOwadXMo8uPtyM5tMaIZzRymlz2sp53d29y/N7BnC/v+G\ncK18PGv660Br4PpS9tm2eI7YISs2NSpJPcKNadJPcqQr6ftnOi8eTryGxZvOEyohr8XcfRahs82V\nbDo2U08B4HbI3dea2a1s2XMQQmPnU4EXzewPhIvvDYQTt6Rq44r0HKFN0F8I7aGKCI24s6tvShV7\npj5CaLszI/aCy/ja3We5+7hYmjHczP5MaJy9kfDjdgpwQ6zmeJjQE/pfsURxMeHOcLPHkpQhU4V0\nGpv/IEKoDs6Uxm7WZsrd58f98NfYbvNlwl1wM0L7wIdi6VsuN8fvP9LMHiBUC/cn3MFuLGGe0nxO\nuHs+z8xmEKrOPyD01OtCeIjxx3E9NxJKUGfmswJ3/8LM/gTcaGar4jIPJQTyr7FlO8UqEYOUnwKj\nCO3N6hN6Gn5NaJ8JoSc9wHVmNobQSaK09nxbJVEqd1HMx2+zpn9h4TEkfzKzfQkB4wpCKdRxwH/c\nfXge65sJlFrV7e7TzGwk8DsLj3OZTChpvxH4h2967uV/CNvrTcI5XkR4tuBf4nI2mtm7wBlm9hKh\nh/xCL//TAPL1D0LJ49h4HM4ktIP9LqF0slts9nInocPIf+O1dD3hGrGCsqsy/5dwczM+XucWxeUf\n6u7/G9PMIlTrnkK43ix299Ju2h4ltFO9EXjJ3T/Jmt6X0N5vtIVHZX1GqBouAta5+2/KyHNZ/kio\nxn/NzAYQ2vU1IJy7x7j7WTHdc4Tn0f4/QgfAbuQ+lmYRguRLgRnANx6egTmecI35Swz8NhJ+H/Jp\njlZmXs1sL8IN7BOEEuENcZ66hJtyAfUCru5/JHoBZ42vSTjwN+s5GqcdQ+idt5LwI/8i0D4rzRDC\nhTjXOhcAj2WN6xrX9YPSlkM4kW8jXBS/IQQ8R5HVw5cyegEn1pfrb1zW+q4h9JBbw6ZHsPyRzXsx\nH0gIRr4htEe8m/CIgc3yUMa+WExWT9Y4vlbczg58v4R5LyaUjq2K+2U2oZdu00SaXPvyAsIFbC2h\nSvVHhB/bkeXYN7m28ZmEi/O6OK0noYH5vwkX5rWE6rFhxJ6epWyPLXoBx/EGXBvz/W1c3r1k9TKO\n896Wx7lQZnpK7gXcPCvdoYROQB/E42YxITgtyjrHBsXjZSOJXrKlrHtIGWk26wWcGJ/p3b0ROKCE\nec8gnE8r4nE8l1CaV9Z+ytkjMyvNHdnfjxA43UEoqfk2bqv+bN4T9UZCAPhFzNMcQvVljazjc3o8\ntjbrUZsjH5leok3LyG/OXrZxWj3CNei9uM5lMY83sXmP+vaEDhhr47Hfj5J7o2b3hm5HuJ58Fb/3\nLOB/E9OPIAQ738T5ByW285oced6ZUNLuZD3VIGuZw+LxmMnzSOCkMrZVebdpY8KjqjLP3Ps8Hm9X\nJtLUJzyKaAnhZmkUoTf6ZtuIcHM9jHBT4MCcxLQjCTfNKwnX/D6lbPecvcfLyiuwS8znrLierwjn\n3jmlbYO0/WUeDyEi24HYW3UecLu7Z79yTEREpFwUAIpUU2ZWl/Dw3xcIpQMHEhrv7wW08tDmSkRE\nJG9qAyhSfW0g9Lr8K6HKYxWh6uQcBX8iIrItVAIoIiIikjJ6ELSIiIhIymzXVcB77LGHN2/evKqz\nISIiIlItTJs2bam7Nykr3XYdADZv3pypU6dWdTZEREREqgUz+7DsVKoCFhEREUkdBYAiIiIiKaMA\nUERERCRltus2gCKSn3Xr1rFw4ULWrFlT1VkRKVOdOnVo2rQptWrVquqsiOxwFACKpMjChQtp0KAB\nzZs3x8yqOjsiJXJ3li1bxsKFC2nRokVVZ0dkh6MqYJEUWbNmDY0bN1bwJ9WemdG4cWOVVotUEgWA\nIimj4E+2FzpWRSqPAkARERGRlFEbQJEUs4crtoTFLyn73eI1atTgiCOOKB4eNWoU+b7RZ/ny5Tzx\nxBNceeWV+WaxTO5OkyZNmDt3Lrvtthuffvop++67L6+++irf+973AGjSpAlz5syhcePGOZfx9NNP\nM2vWLPr161fiesaNG8ddd93FM888s8W0AQMG0KtXL+rVq1cxX0pEJItKAEWkoOrWrcv06dOL/7bm\ndY7Lly/nvvvuy3u+DRs2lJnGzOjQoQMTJ04EYMKECRx11FFMmDABgHfffZfGjRuXGPwBnH766aUG\nf2UZMGAA33zzzVbPLyJSFgWAIlLlNmzYwPXXX0+7du1o3bo1999/PwArV67khBNOoG3bthxxxBH8\n+9//BqBfv37Mnz+fNm3acP311zNu3DhOPfXU4uX16dOHIUOGAOGVkTfccANt27Zl2LBhzJ8/n+7d\nu3P00Udz7LHHMmfOnC3y06lTp+KAb8KECVx77bWbBYSdO3cGYMmSJZx11lm0a9eOdu3aMX78eACG\nDBlCnz59AJg/fz4dOnTgiCOO4Ne//jX169cvXs/KlSs5++yzOeSQQ7jwwgtxdwYOHMiiRYs47rjj\nOO644ypyM4uIFFMVsIgU1OrVq2nTpg0ALVq0YOTIkfz973+nYcOGTJkyhbVr19K5c2dOOukkmjVr\nxsiRI9l1111ZunQpHTp04PTTT+eOO+5g5syZTJ8+HQjVqaVp3Lgxb7zxBgAnnHACgwYNomXLlrz+\n+utceeWVvPTSS5ul79y5M7fccgsAkydP5pZbbuHuu+8GQgDYqVMnAK655hquvfZavve97/HRRx/R\nrVs3Zs+evdmyrrnmGq655hrOP/98Bg0atNm0N998k3feeYd9992Xzp07M378eK6++mr+/Oc/M3bs\nWPbYY4+t2MIiImVTACgiBZWpAk4aM2YMM2bMYPjw4QB89dVXzJ07l6ZNm/LLX/6SV155hZ122olP\nPvmEzz//PO919ujRAwglbhMmTOCcc84pnrZ27dot0rdr144333yTVatWsW7dOurXr8+BBx7IvHnz\nmDBhAr/4xS8AeOGFF5g1a1bxfF9//TUrV67cbFkTJ05k1KhRAFxwwQVcd911xdPat29P06ZNAWjT\npg0LFiwobmcoUh3Zww9X2rL9kksqbdmyJQWAIlLl3J177rmHbt26bTZ+yJAhLFmyhGnTplGrVi2a\nN2+e87lwNWvWZOPGjcXD2Wl22WUXADZu3EijRo22CECz1atXj5YtWzJ48GDatm0LQIcOHRg9ejSL\nFy/m4IMPLl7epEmTqFOnTv5fGqhdu3bx5xo1arB+/fqtWo6ISL7UBlBEqly3bt3429/+xrp16wB4\n7733WLVqFV999RV77rkntWrVYuzYsXz44YcANGjQgBUrVhTPf8ABBzBr1izWrl3L8uXLefHFF3Ou\nZ9ddd6VFixYMGzYMCIHnW2+9lTNtp06dGDBgAB07dgSgY8eO3H333XTo0KH4+XQnnXQS99xzT/E8\nuQLLDh06MGLECACGDh1aru2R/f1ERCqaSgBFUqw8j20phMsuu4wFCxbQtm3b4sewjBo1igsvvJDT\nTjuNI444gqKiIg455BAgtOnr3Lkzhx9+OCeffDJ33nkn5557LocffjgtWrTgqKOOKnFdjz/+OFdc\ncQW33XYb69at47zzzuPII4/cIl3nzp25++67iwPAtm3bsnDhQi677LLiNAMHDuSqq66idevWrF+/\nni5dumzRzm/AgAFcdNFF3H777XTv3p2GDRuWuT169epF9+7d2XfffRk7dmy5tqGISD7MvXr8AGyN\noqIinzp1alVnQ2S7MXv2bA499NCqzkaqfPPNN9StWxczY+jQoTz55JPFvZmlbDpmqxe1Aaz+zGya\nuxeVlU4lgCIilWjatGn06dMHd6dRo0YMHjy4qrMkIqIAUESkMh177LEltjMUEakq6gQiIiIikjIK\nAEVERERSRgGgiIiISMooABQRERFJGXUCEUmxin6kQ3ke4/DZZ5/Rt29fpkyZQqNGjdhrr70YMGAA\nBx10UIXmJalr167cddddFBWV/GSEAQMG0KtXL+rVqwfAKaecwhNPPEGjRo22ad3NmzenQYMG1KhR\nA4D77ruv+F3C+fjd737HL3/5y23KS0mOOuoo/vGPf9CmTRvWr19Po0aNGDRoEBdddBEARx99NA8+\n+GDxW1GyTZ06lUceeYSBAweWuI4FCxZw6qmnMnPmzC2mDRkyhJNOOol99923Yr6QiJRJJYAiUjDu\nzo9+9CO6du3K/PnzmTZtGr///e+36v2+FW3AgAF88803xcOjR4/e5uAvY+zYsUyfPp3p06dvVfAH\nIQDMV3lfLde5c2cmTJgAwFtvvcVBBx1UPLxq1Srmz5+f82HZGUVFRaUGf2UZMmQIixYt2ur5RSR/\nCgBFpGDGjh1LrVq16N27d/G4I488kmOPPZZx48Zx6qmnFo/v06cPQ4YMAUIp2o033kibNm0oKiri\njTfeoFu3bnznO98pfvNGafMnXXHFFRQVFdGqVStuvvlmILzRY9GiRRx33HEcd9xxxetcunQp/fr1\n49577y2ev3///tx1110A3HnnnbRr147WrVsXL6u8Spr3zDPP5Oijj6ZVq1Y88MADAPTr14/Vq1fT\npk0bLrzwQhYsWMDhhx9ePM9dd91F//79gVDa2bdvX4qKirj77rtZsmQJZ511Fu3ataNdu3aMHz9+\ni7x06tSpOOCbMGECvXv3Ln6t3eTJkzn66KOpUaMGq1at4qc//Snt27fnqKOOKn6gdXLbL1myhBNP\nPJFWrVpx2WWXccABB7B06VIANmzYwOWXX06rVq046aSTWL16NcOHD2fq1KlceOGFtGnThtWrV+e1\nHUVk6ygAFJGCmTlzJkcfffRWzbv//vszffp0jj32WHr27Mnw4cOZNGlS3oHX7bffztSpU5kxYwYv\nv/wyM2bM4Oqrry5+7Vr2q9d69OjBU089VTz81FNP0aNHD8aMGcPcuXOZPHky06dPZ9q0abzyyis5\n13ncccfRpk0bjjnmGIBS5x08eDDTpk1j6tSpDBw4kGXLlnHHHXdQt25dpk+fzuOPP17md/z222+Z\nOnUqv/jFL7jmmmu49tprmTJlCiNGjNjsVXYZyRLACRMm0KVLF2rXrs2KFSuYMGFCcanl7bffzvHH\nH8/kyZMZO3Ys119/PatWrdpsWbfccgvHH38877zzDmeffTYfffRR8bS5c+dy1VVX8c4779CoUSNG\njBjB2WefTVFREY8//jjTp0+nbt26ZX4/Edl2agMoItuF008/HYAjjjiClStX0qBBAxo0aEDt2rVZ\nvnx5uZfz1FNP8cADD7B+/Xo+/fRTZs2aRevWrUtMf9RRR7F48WIWLVrEkiVL2G233WjWrBl33303\nY8aMKX7v8MqVK5k7dy5dunTZYhljx45ljz32KB4eM2ZMifMOHDiQkSNHAvDxxx8zd+5cGjduXO7v\nByFozXjhhReYNWtW8fDXX3/NypUrqV+/fvG4Aw44gG+//ZbPPvuMOXPmcPDBB9OuXTtef/11JkyY\nwM9//vPifD/99NPFJaBr1qzZLMADeO2114rz3717d3bbbbfiaS1atKBNmzZAaFe4YMGCvL6XiFQc\nBYAiUjCtWrVi+PDhOafVrFmTjRs3Fg+vWbNms+m1a9cGYKeddir+nBlev359mfMDfPDBB9x1111M\nmTKF3XYVjZYZAAAfS0lEQVTbjZ49e+ZMl+2cc85h+PDhfPbZZ8XBlbtz44038rOf/azM+bOVNO+4\nceN44YUXmDhxIvXq1aNr164581fWd91ll12KP2/cuJFJkyZRp06dUvPUqVMnhg0bxj777IOZ0aFD\nB8aPH8/kyZPp2LFjcb5HjBjBwQcfvNm85W3DmdxvNWrUUHWvSBUqWBWwmXU3s3fNbJ6Z9csxvauZ\nfWVm0+PfTYXKm4gUxvHHH8/atWuL27YBzJgxg1dffZUDDjiAWbNmsXbtWpYvX86LL76Y17LLM//X\nX3/NLrvsQsOGDfn888/5z3/+UzytQYMGrFixIueye/TowdChQxk+fDjnnHMOAN26dWPw4MGsXLkS\ngE8++YTFixeXK68lzfvVV1+x2267Ua9ePebMmcOkSZOK56lVqxbr1q0DYK+99mLx4sUsW7aMtWvX\n8swzz5S4rpNOOol77rmneDjTti9bp06dGDBgQHGw17FjRx555BH23ntvGjZsWJzve+65B3cH4M03\n39xiOZ07dy6uMh8zZgxffvllmdujtG0vIpWjICWAZlYDuBc4EVgITDGzp919VlbSV9391C0WICKV\nojyPbalIZsbIkSPp27cvf/jDH6hTpw7NmzdnwIABNGvWjHPPPZfDDz+cFi1aFFePlld55j/yyCM5\n6qijOOSQQ2jWrBmdO3cuntarVy+6d+9e3BYwqVWrVqxYsYL99tuPffbZBwiB1ezZs4sDpvr16/PY\nY4+x5557lpnXkubt3r07gwYN4tBDD+Xggw+mQ4cOm+WvdevWtG3blscff5ybbrqJ9u3bs99++3HI\nIYeUuK6BAwdy1VVX0bp1a9avX0+XLl2KO84kde7cmWuvvbY4T/vssw8bNmzYrNfyb37zG/r27Uvr\n1q3ZuHEjLVq02CL4vPnmmzn//PN59NFH6dixI3vvvTcNGjQoDnZz6dmzJ71796Zu3bpMnDhR7QBF\nCsAyd3KVuhKzjkB/d+8Wh28EcPffJ9J0Ba7LJwAsKiryqVOnVnBuRXZcs2fP5tBDD63qbMgObO3a\ntdSoUYOaNWsyceJErrjiihJLHctDx2z1UtHPDk0q9A3pjsrMprl7yQ89jQrVBnA/4OPE8ELgmBzp\nOpnZDOATQjD4TnYCM+sF9ILQK1BERKqPjz76iHPPPZeNGzey8847c+2ddzI1PgZmayxduZLDSgg6\nFDCIbL3q1AnkDWB/d19pZqcAo4CW2Ync/QHgAQglgIXNooiIlKZly5abtQ3cluBPRCpPoTqBfAI0\nSww3jeOKufvX7r4yfh4N1DKzPRCRClWIZh8iFcKdjWWnEpGtUKgAcArQ0sxamNnOwHnA08kEZra3\nmVn83D7mbVmB8ieSCnXq1GHZsmUKAqX6c2f9ihXM06NiRCpFQaqA3X29mfUBngdqAIPd/R0z6x2n\nDwLOBq4ws/XAauA816+USIVq2rQpCxcuZMmSJVWdFUmJpaX0/i3NRmDe6tX0z3rQtIhUjIK1AYzV\nuqOzxg1KfP4r8NdC5UckjWrVqkWLFi2qOhuSIiV14BCRqqV3AYuIiIikjAJAERERkZRRACgiIiKS\nMgoARURERFJGAaCIiIhIyigAFBEREUkZBYAiIiIiKaMAUERERCRlFACKiIiIpIwCQBEREZGUUQAo\nIiIikjIKAEVERERSRgGgiIiISMooABQRERFJGQWAIiIiIimjAFBEREQkZRQAioiIiKSMAkARERGR\nlFEAKCIiIpIyCgBFREREUkYBoIiIiEjKKAAUERERSRkFgCIiIiIpowBQREREJGUUAIqIiIikTM2q\nzoCISIY9/HClLdsvuaTSli0isr1RCaCIiIhIyigAFBEREUkZBYAiIiIiKaMAUERERCRlFACKiIiI\npIwCQBEREZGUUQAoIiIikjIKAEVERERSRgGgiIiISMooABQRERFJGQWAIiIiIimjAFBEREQkZRQA\nioiIiKSMAkARERGRlFEAKCIiIpIyCgBFREREUqZgAaCZdTezd81snpn1KyVdOzNbb2ZnFypvIiIi\nImlSkADQzGoA9wInA4cB55vZYSWk+wMwphD5EhEREUmjQpUAtgfmufv77v4tMBQ4I0e6nwMjgMUF\nypeIiIhI6hQqANwP+DgxvDCOK2Zm+wE/Av5W2oLMrJeZTTWzqUuWLKnwjIqIiIjs6KpTJ5ABwA3u\nvrG0RO7+gLsXuXtRkyZNCpQ1ERERkR1HzQKt5xOgWWK4aRyXVAQMNTOAPYBTzGy9u48qTBZFRERE\n0qFQAeAUoKWZtSAEfucBFyQTuHuLzGczGwI8o+BPREREpOIVJAB09/Vm1gd4HqgBDHb3d8ysd5w+\nqBD5EBEREZHClQDi7qOB0VnjcgZ+7t6zEHkSERERSaPq1AlERERERApAAaCIiIhIyigAFBEREUkZ\nBYAiIiIiKaMAUERERCRlFACKiIiIpIwCQBEREZGUUQAoIiIikjIKAEVERERSRgGgiIiISMooABQR\nERFJGQWAIiIiIimjAFBEREQkZRQAioiIiKRMzarOgMjWsocfrtTl+yWXVOryRUREqopKAEVERERS\nRgGgiIiISMooABQRERFJGQWAIiIiIimjAFBEREQkZRQAioiIiKSMAkARERGRlFEAKCIiIpIyCgBF\nREREUkYBoIiIiEjKKAAUERERSRkFgCIiIiIpowBQREREJGUUAIqIiIikjAJAERERkZRRACgiIiKS\nMgoARURERFJGAaCIiIhIyigAFBEREUmZcgeAZnZOCePPrrjsiIiIiEhly6cE8O8ljH+gIjIiIiIi\nIoVRs6wEZnZg/LiTmbUALDH5QGBNZWRMRERERCpHmQEgMA9wQuA3P2vaZ0D/Cs6TiIiIiFSiMgNA\nd98JwMxedvfvV36WRERERKQylbsNoII/ERERkR1DeaqAAYjt/24H2gD1k9Pcff8KzpeIiIiIVJJy\nB4DAE4Q2gL8Avsl3RWbWHbgbqAE85O53ZE0/A/gtsBFYD/R199fyXY+IiIiIlC6fALAV0NndN+a7\nEjOrAdwLnAgsBKaY2dPuPiuR7EXgaXd3M2sNPAUcku+6RERERKR0+TwH8BXgqK1cT3tgnru/7+7f\nAkOBM5IJ3H2lu3sc3IXQ81hEREREKlipJYBmdmticAHwnJmNJDz+pZi731TGevYDPk4MLwSOybG+\nHwG/B/YEflhCnnoBvQD2319ND0VERETyVVYJYLPE3y7AM0CtrPHNKioz7j7S3Q8BziS0B8yV5gF3\nL3L3oiZNmlTUqkVERERSo9QSQHf/SQWt5xM2DxSbxnElrfcVMzvQzPZw96UVlAcRERERIb/HwBxY\nwqS1wKdldA6ZArSMj5L5BDgPuCBr+d8F5sdOIG2B2sCy8uZPRERERMonn17AmVfCQXgtXLKTxkYz\nexq40t0/z57R3debWR/gecJjYAa7+ztm1jtOHwScBfzYzNYBq4EeiU4hIiIiIlJB8gkALwe6Et79\n+zGwP/BrYCLwMvAHwqNezs41s7uPBkZnjRuU+PyHuAwRERERqUT5BIC3AN919zVxeJ6ZXQm85+73\nm1lPYG5FZ1BEREREKlY+zwHcCWieNW5/QpUuwCryCyhFREREpArkE7ANAF4ys38QqoCbAj+J4wFO\nIVQHi4iIiEg1Vu4A0N3/aGYzgHOAtsCnwKXu/lycPgoYVSm5FBEREZEKk1eVbQz2nqukvIiIiIhI\nAZT1Krhfufvt8fOtJaUrx6vgRERERKSaKKsEsGnic4W98k1EREREqk5Zr4K7IvG5ol4LJyIiIiJV\nKK82gGZ2CKETyF7u3sfMDgZqu/uMSsmdiIiIiFS4cj8H0MzOAV4F9gN+HEc3AP5cCfkSERERkUqS\nz4OgbwV+4O69gQ1x3FvAkRWeKxERERGpNPkEgHsCmapeT/z33MlFREREpDrKJwCcBlycNe48YHLF\nZUdEREREKls+nUCuBsaY2aXALmb2PHAQcFKl5ExEREREKkWZAaCZnQu84u5zYi/gU4FnCO8Dfsbd\nV1ZyHkVERESkApWnBPA24DtmNh94BXgZeMrdP6zUnImIiIhIpSizDaC7H0R49MuvgNXAL4D5Zvah\nmT1qZpdVch5FREREpAKVqxOIu3/m7sPc/efu3gZoAtwLnAjcX5kZFBEREZGKVa5OIGZmQBugS/zr\nBCwCniI8HFpEREREthPl6QTyLHAU8C7wGvAA0NPdV1Ry3kRERESkEpSnCvggYC3wATAfmKfgT0RE\nRGT7VWYJoLu3NLO9gWMJ1b99zWwPYDyh+vc1d59eudkUERERkYpSrjaA7v4ZMCz+YWa7AZcDvyZ0\nCKlRWRkUERERkYq1tZ1Avgc0AqYCgystdyIiIiJS4crTCWQ00BHYGXid8CDovwIT3X1N5WZPRERE\nRCpaeUoAXyG8DWSKu6+r5PyIiIiISCUrTyeQOwqREREREREpjHK9CUREREREdhwKAEVERERSRgGg\niIiISMooABQRERFJGQWAIiIiIimjAFBEREQkZRQAioiIiKSMAkARERGRlFEAKCIiIpIyCgBFRERE\nUkYBoIiIiEjKKAAUERERSRkFgCIiIiIpowBQREREJGUUAIqIiIikTMECQDPrbmbvmtk8M+uXY/qF\nZjbDzN42swlmdmSh8iYiIiKSJgUJAM2sBnAvcDJwGHC+mR2WlewD4PvufgTwW+CBQuRNREREJG0K\nVQLYHpjn7u+7+7fAUOCMZAJ3n+DuX8bBSUDTAuVNREREJFVqFmg9+wEfJ4YXAseUkv5S4D+5JphZ\nL6AXwP77759XJuzhh/NKn5+elbjs6sMv8arOgoiIiGyjatcJxMyOIwSAN+Sa7u4PuHuRuxc1adKk\nsJkTERER2QEUqgTwE6BZYrhpHLcZM2sNPASc7O7LCpQ3ERERkVQpVAngFKClmbUws52B84CnkwnM\nbH/gX8DF7v5egfIlIiIikjoFKQF09/Vm1gd4HqgBDHb3d8ysd5w+CLgJaAzcZ2YA6929qBD5ExER\nEUmTQlUB4+6jgdFZ4wYlPl8GXFao/IiIiIikVbXrBCIiIiIilUsBoIiIiEjKKAAUERERSRkFgCIi\nIiIpowBQREREJGUUAIqIiIikjAJAERERkZRRACgiIiKSMgoARURERFJGAaCIiIhIyigAFBEREUkZ\nBYAiIiIiKaMAUERERCRlFACKiIiIpEzNqs6ASHVlD1tVZ6Eg/BKv6iyIiEiBqQRQREREJGUUAIqI\niIikjAJAERERkZRRACgiIiKSMgoARURERFJGAaCIiIhIyigAFBEREUkZBYAiIiIiKaMAUERERCRl\nFACKiIiIpIwCQBEREZGUUQAoIiIikjIKAEVERERSRgGgiIiISMooABQRERFJGQWAIiIiIimjAFBE\nREQkZRQAioiIiKSMAkARERGRlFEAKCIiIpIyCgBFREREUkYBoIiIiEjKKAAUERERSRkFgCIiIiIp\nowBQREREJGUUAIqIiIikTMECQDPrbmbvmtk8M+uXY/ohZjbRzNaa2XWFypeIiIhI2tQsxErMrAZw\nL3AisBCYYmZPu/usRLIvgKuBMwuRJxEREZG0KlQJYHtgnru/7+7fAkOBM5IJ3H2xu08B1hUoTyIi\nIiKpVKgAcD/g48Twwjgub2bWy8ymmtnUJUuWVEjmRERERNJku+sE4u4PuHuRuxc1adKkqrMjIiIi\nst0pVAD4CdAsMdw0jhMRERGRAitUADgFaGlmLcxsZ+A84OkCrVtEREREEgrSC9jd15tZH+B5oAYw\n2N3fMbPecfogM9sbmArsCmw0s77AYe7+dSHyKCIiIpIWBQkAAdx9NDA6a9ygxOfPCFXDIiIiIlKJ\ntrtOICIiIiKybRQAioiIiKSMAkARERGRlFEAKCIiIpIyBesEIiJSlexhq+osFIxf4lWdBRGp5lQC\nKCIiIpIyCgBFREREUkYBoIiIiEjKKAAUERERSRkFgCIiIiIpowBQREREJGUUAIqIiIikjAJAERER\nkZRRACgiIiKSMnoTiIiIbJfS8nYXvdlFKoNKAEVERERSRgGgiIiISMooABQRERFJGQWAIiIiIimj\nAFBEREQkZRQAioiIiKSMAkARERGRlFEAKCIiIpIyCgBFREREUkYBoIiIiEjK6FVwIiIiUuXS8mo/\nqB6v91MJoIiIiEjKKAAUERERSRkFgCIiIiIpowBQREREJGUUAIqIiIikjAJAERERkZRRACgiIiKS\nMgoARURERFJGAaCIiIhIyigAFBEREUkZBYAiIiIiKaMAUERERCRlFACKiIiIpIwCQBEREZGUUQAo\nIiIikjIKAEVERERSpmABoJl1N7N3zWyemfXLMd3MbGCcPsPM2hYqbyIiIiJpUpAA0MxqAPcCJwOH\nAeeb2WFZyU4GWsa/XsDfCpE3ERERkbQpVAlge2Ceu7/v7t8CQ4EzstKcATziwSSgkZntU6D8iYiI\niKRGzQKtZz/g48TwQuCYcqTZD/g0mcjMehFKCAFWmtm7FZvVamkPYGlVZwLAelpVZ2FHoX2649E+\n3bFof+540rJPDyhPokIFgBXG3R8AHqjqfBSSmU1196KqzodUHO3THY/26Y5F+3PHo326uUJVAX8C\nNEsMN43j8k0jIiIiItuoUAHgFKClmbUws52B84Cns9I8Dfw49gbuAHzl7p9mL0hEREREtk1BqoDd\nfb2Z9QGeB2oAg939HTPrHacPAkYDpwDzgG+AnxQib9uJVFV5p4T26Y5H+3THov2549E+TTB3r+o8\niIiIiEgB6U0gIiIiIimjAFBEREQkZRQAViEz29fMhsfPbczslHLM09XMnilh2jgzUxd3kQpQ0efn\nVqy/yMwGVsSyqjMza25mM6s6H9WVmS0wsz2qOh8Vzcx6mtlfK3iZZybfMmZmt5rZDypyHTsSBYBV\nyN0XufvZcbANoROMiFQDVX1+uvtUd7+6kOvcUZhZQTo4xtecSvVxJuF1swC4+03u/kIV5qdaUwC4\nDczsx2Y2w8zeMrNHzew0M3vdzN40sxfMbK+Yrn+cPtHM5prZ5XF8czObGR+NcyvQw8ymm1kPM2sf\n079pZhPM7OA883a+mb0dl/+HOK6GmQ2J4942s2vj+KvNbFb8LkMrdiulk5mNMrNpZvZOfHsNZnap\nmb1nZpPN7MHM3a+ZNTGzEWY2Jf51rtrc7xiq2/lpZqeY2Zx4XAzMlBSWtKxkaWLM4+BYyv++me1o\ngWGNeE68Y2ZjzKxuLHWdFPfhSDPbDTav6TCzPcxsQfzc08yeNrOXgBfNbB8zeyXus5lmdmz2SuM8\n/47LnGtmNyemXRTP1elmdn8m2DOzlWb2JzN7C+iYtbx7zez0+HmkmQ2On39qZreXsdyT4nHwhpkN\nM7P6Wcuua2b/yRyf1V2u72lmP8lcA4HOibRDzOzsxPDKxOcb4u/VW2Z2Rxx3ebxWvhWvnfXMrBNw\nOnBnXOd3kss1sxPiOfZ2PJdqx/ELzOyWuN3fNrNDSvg+OdPFc/O6RLqZ8drRPJ7vQ+J3ftzMfmBm\n4+Ox1r5CN/jWcHf9bcUf0Ap4D9gjDu8O7MamntWXAX+Kn/sDbwF1Ca+i+RjYF2gOzIxpegJ/TSx/\nV6Bm/PwDYET83BV4poQ8jQOK4rI/ApoQHvXzEuHO6Gjgv4n0jeL/RUDt5Dj9bfPxsXv8XxeYSXit\n4YJ4nNQCXs3sb+AJ4Hvx8/7A7KrO//b+V93OT6BOXG6LOPxkJl15lhXzOAGoHfO4DKhV1du5gvZV\nc2A90CYOPwVcBMwAvh/H3QoMiJ/HAUXx8x7AgsQ+Wpg4934B/Cp+rgE0yLHunoTXjTZOnKtFwKHA\n/2W2MXAf8OP42YFzS/gu5wF3xs+TgUnx8z+AbiUtN36PV4Bd4vgbgJvi5wVxG72QyUN1/yvhe17C\npt+lnYHxbLoGDgHOTsy/Mv4/OR739eJwZt82TqS9Dfh5CcsZApzNpvPvoDj+EaBvYvtm5r8SeKiE\n75QzHeHcvC6RbmbcX80Jx/URhMK2acBgwIAzgFFVvZ+2u1fBVSPHA8PcfSmAu39hZkcA/zSzfQgH\n+AeJ9P9299XAajMbC7QHppey/IbAw2bWknDBqZVH3toB49x9CYCZPQ50AX4LHGhm9wDPAmNi+hnA\n42Y2ChiVx3qkZFeb2Y/i52bAxcDL7v4FgJkNAw6K038AHGZW/G7IXc2svruvRLZWdTs/DwHed/fM\nOp9k0zvNy7usZ919LbDWzBYDexECnh3BB+6e2d7TgO8QbkZfjuMeBoaVYzn/zZxjhBcQDDazWoQf\n25L253/dfRmAmf0L+B7hh/toYEo8L+sCi2P6DcCIEpb1KtDXQju0WcBu8XjrCFxNCIJyLbcDoepy\nfBy/MzAxsdx/A39098fLsQ2qgxPY8nt2YvPfpX+y6RpYkh8A/3D3byCcx3H84WZ2G9AIqE94xnBp\nDiYcY+/F4YeBq4ABcfhf8f804H9KWU5502V84O5vA5jZO8CL7u5m9jYhQKxSqgKuWPcQ7miOAH5G\nuOvIyH7gYlkPYPwtMNbdDwdOy1oWAGb2fCzqfqg8mXP3L4EjCXfQvYHMfD8E7gXaEk5Y3RhsAzPr\nSrhwdXT3I4E3gTmlzLIT0MHd28S//RT8VYrqen6WuaxobeLzBrbDd7mXIvu7NSol7Xo2/XZlb6tV\nmQ/u/grhxvcTYIiFJgE/ivtkum3qMJdr3xvwcOKcPNjd+8fpa9x9A4CZHZNY3unu/knMe3dCid6r\nwLmEEq0VpSzXCIFoZvxh7n5pIk/jge6WuEus5rb4noSSspIU71Mz24kQAJdmCNAnnsu3UPI5U16Z\n46/4vCrh/N0iHZsfj2TlJXlcb0wMb6QanL8KALfeS8A5ZtYYwMx2J9zJZ95ffElW+jPMrE5M35Vw\nd5q0AmiQGE4uq2euDLh7t3hyXZY1aTLwfQvtY2oA5wMvW+hJtpO7jwB+DbSNJ1szdx9LqHZoSLij\nkq3XEPjS3b+J7UQ6ALsQ9sluMcA+K5F+DPDzzICZtSlobndM1e38fJdQ+t48Tu6Rz7JS6CvgS9vU\nbu9iIFMauIBQugShei8nMzsA+NzdHyTc7LZ195GJoGRqTHqime1uZnUJTWXGAy8CZ5vZnnFZu8fl\nbcbdX08sL/N600lAXzYFgNfF/5Sy3ElAZzP7bhy/i5klS8duAr4k3KhvD7b4noQb4e+bWeNYKntO\nIv0CNu3T09lUCv5f4CdmVi+xHAjn4qdxORcmlpN9nma8CzTPbF82P55yKuX3NdsCQuEJZtYWaFFG\n+mpDAeBWcvd3gNsJgdVbwJ8JdzjDzGwasDRrlhnAWMKJ/lt3X5Q1fSyhGnC6mfUA/gj83szeJM87\nBQ/vUO4Xl/kWMM3d/01ohzbOzKYDjwE3EtrGPBaLpN8EBrr78nzWJ1t4DqhpZrOBOwj7/BPgd4Tg\nfDzhovFVTH81UGShsfssQumsbIPqdn7G6uUrgefi+lewaf9v9bm+g7uE0KB/BqEX9q1x/F3AFXF7\nlfZ4lK7AWzFdD+DuEtJNJlTpziC0v5zq7rMIN8lj4vr/C+xTzny/SmjTOQ94g9D+9FWAkpYbq0V7\nAk/G8RMJzQaSrgHqmtkfy5mPKlPK9utP+G7jgdmJWR4kBIeZjjWr4nKeA54GpsbfrUxni98Ar8fl\nJGtXhgLXW+js8Z1EftYQXi87LP7WbQQGVdDXHQHsHqt4+xDaHm8X9Cq4AjCz/oQqgLuqOi9SdTLt\n+mIJ4EjCO7FHVnW+0q5Q52di/xuhJGeuu/+lMtcppTOznoQOJX2qOi8ihaYSQJHC6R/vYmcSOiCo\nw026XB73/zuEat/7qzg/IpJiKgEUERERSRmVAIqIiIikjAJAERERkZRRACgiIiKSMgoARURERFJG\nAaCIpIqFl7qvNrOVib99t2F5Xc1sR3klm4ikhAJAEUmj09y9fuIv+8HPBaNXL4pIVVAAKCICmFkH\nM5tgZsvN7K34TufMtJ+Y2WwzW2Fm75vZz+L4XYD/APsmSxPNbIiFl9Vn5t+slDCWQt4Q35Kwysxq\nxvlGmNkSM/vAzK4u3LcXkbRRACgiqWdm+wHPArcRXt11HTDCzJrEJIuBU4FdCa+U+ouZtXX3VcDJ\nwKKtKE08H/gh0Ijwaqr/I7y6cT/gBKCvmXWrkC8oIpJFAaCIpNGoWNK33MxGARcBo919tLtvdPf/\nAlOBUwDc/Vl3n+/By8AY4NhtzMNAd/84vie4HdDE3W9192/d/X3C+1HP28Z1iIjkpLYnIpJGZ7r7\nC5kBM7sPOMfMTkukqQWMjdNPBm4GDiLcONcD3t7GPHyc+HwAoRp5eWJcDeDVbVyHiEhOCgBFREIw\n9qi7X549wcxqAyOAHwP/dvd1sdTQYpJc79NcRQgSM/bOkSY538fAB+7ecmsyLyKSL1UBi4jAY8Bp\nZtbNzGqYWZ3YcaMpsDNQG1gCrI+lgScl5v0caGxmDRPjpgOnmNnuZrY30LeM9U8GVsSOIXVjHg43\ns3YV9g1FRBIUAIpI6rn7x8AZwC8Jgd7HwPXATu6+ArgaeAr4ErgAeDox7xzgSeD92KZwX+BRQoeO\nBYT2gv8sY/0bCJ1M2gAfAEuBh4CGpc0nIrK1zD1X7YWIiIiI7KhUAigiIiKSMgoARURERFJGAaCI\niIhIyigAFBEREUkZBYAiIiIiKaMAUERERCRlFACKiIiIpIwCQBEREZGU+f/jPDf3PF0EzAAAAABJ\nRU5ErkJggg==\n",
      "text/plain": [
       "<matplotlib.figure.Figure at 0xcfedba8>"
      ]
     },
     "metadata": {},
     "output_type": "display_data"
    }
   ],
   "source": [
    "# TODO: Import a supervised learning model that has 'feature_importances_'\n",
    "from sklearn.ensemble import AdaBoostClassifier\n",
    "clf = AdaBoostClassifier(random_state=0)\n",
    "# TODO: Train the supervised model on the training set using .fit(X_train, y_train)\n",
    "model = clf.fit(X_train, y_train)\n",
    "\n",
    "# TODO: Extract the feature importances using .feature_importances_ \n",
    "importances = clf.feature_importances_\n",
    "\n",
    "# Plot\n",
    "vs.feature_plot(importances, X_train, y_train)"
   ]
  },
  {
   "cell_type": "markdown",
   "metadata": {},
   "source": [
    "### Question 7 - Extracting Feature Importance\n",
    "\n",
    "Observe the visualization created above which displays the five most relevant features for predicting if an individual makes at most or above \\$50,000.  \n",
    "* How do these five features compare to the five features you discussed in **Question 6**?\n",
    "* If you were close to the same answer, how does this visualization confirm your thoughts? \n",
    "* If you were not close, why do you think these features are more relevant?"
   ]
  },
  {
   "cell_type": "markdown",
   "metadata": {},
   "source": [
    "**Answer:** Feature Age, capital-gain,capital-loss, education-num matches with what i have thought. I thought occupation along with education would replace hours-per-week importance but its not the case. I assumed Age to be most importance but capital-loss(Individual financial debt) decide his income is a surprise. Capital loss should decide if donation should be asked or not, but it shouldn't decide how much income a individual make. "
   ]
  },
  {
   "cell_type": "markdown",
   "metadata": {},
   "source": [
    "### Feature Selection\n",
    "How does a model perform if we only use a subset of all the available features in the data? With less features required to train, the expectation is that training and prediction time is much lower — at the cost of performance metrics. From the visualization above, we see that the top five most important features contribute more than half of the importance of **all** features present in the data. This hints that we can attempt to *reduce the feature space* and simplify the information required for the model to learn. The code cell below will use the same optimized model you found earlier, and train it on the same training set *with only the top five important features*. "
   ]
  },
  {
   "cell_type": "code",
   "execution_count": 34,
   "metadata": {},
   "outputs": [
    {
     "name": "stdout",
     "output_type": "stream",
     "text": [
      "Final Model trained on full data\n",
      "------\n",
      "Accuracy on testing data: 0.8664\n",
      "F-score on testing data: 0.7432\n",
      "\n",
      "Final Model trained on reduced data\n",
      "------\n",
      "Accuracy on testing data: 0.8426\n",
      "F-score on testing data: 0.7044\n"
     ]
    }
   ],
   "source": [
    "# Import functionality for cloning a model\n",
    "from sklearn.base import clone\n",
    "\n",
    "# Reduce the feature space\n",
    "X_train_reduced = X_train[X_train.columns.values[(np.argsort(importances)[::-1])[:5]]]\n",
    "X_test_reduced = X_test[X_test.columns.values[(np.argsort(importances)[::-1])[:5]]]\n",
    "\n",
    "# Train on the \"best\" model found from grid search earlier\n",
    "clf = (clone(best_clf)).fit(X_train_reduced, y_train)\n",
    "\n",
    "# Make new predictions\n",
    "reduced_predictions = clf.predict(X_test_reduced)\n",
    "\n",
    "# Report scores from the final model using both versions of data\n",
    "print \"Final Model trained on full data\\n------\"\n",
    "print \"Accuracy on testing data: {:.4f}\".format(accuracy_score(y_test, best_predictions))\n",
    "print \"F-score on testing data: {:.4f}\".format(fbeta_score(y_test, best_predictions, beta = 0.5))\n",
    "print \"\\nFinal Model trained on reduced data\\n------\"\n",
    "print \"Accuracy on testing data: {:.4f}\".format(accuracy_score(y_test, reduced_predictions))\n",
    "print \"F-score on testing data: {:.4f}\".format(fbeta_score(y_test, reduced_predictions, beta = 0.5))"
   ]
  },
  {
   "cell_type": "markdown",
   "metadata": {},
   "source": [
    "### Question 8 - Effects of Feature Selection\n",
    "\n",
    "* How does the final model's F-score and accuracy score on the reduced data using only five features compare to those same scores when all features are used?\n",
    "* If training time was a factor, would you consider using the reduced data as your training set?"
   ]
  },
  {
   "cell_type": "markdown",
   "metadata": {},
   "source": [
    "**Answer:** F-score and accuracy score has reduced when ran on reduced data. F-score went down from 0.74 to 0.70 and accuracy went down from 0.866 to 0.842. If we need to run the model in real time, we should considered reduced dataset since F-Score has decreased by only 0.04. "
   ]
  },
  {
   "cell_type": "markdown",
   "metadata": {},
   "source": [
    "> **Note**: Once you have completed all of the code implementations and successfully answered each question above, you may finalize your work by exporting the iPython Notebook as an HTML document. You can do this by using the menu above and navigating to  \n",
    "**File -> Download as -> HTML (.html)**. Include the finished document along with this notebook as your submission."
   ]
  }
 ],
 "metadata": {
  "kernelspec": {
   "display_name": "Python 2",
   "language": "python",
   "name": "python2"
  },
  "language_info": {
   "codemirror_mode": {
    "name": "ipython",
    "version": 2
   },
   "file_extension": ".py",
   "mimetype": "text/x-python",
   "name": "python",
   "nbconvert_exporter": "python",
   "pygments_lexer": "ipython2",
   "version": "2.7.13"
  }
 },
 "nbformat": 4,
 "nbformat_minor": 1
}
