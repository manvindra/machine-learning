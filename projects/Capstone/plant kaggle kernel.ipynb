{
  "cells": [
    {
      "metadata": {
        "_cell_guid": "4d619565-4255-466b-9812-b1087a21c7be",
        "_uuid": "782f0a352b3ea5c562a6619d3448a41ed5014902",
        "trusted": true
      },
      "cell_type": "code",
      "source": "# This Python 3 environment comes with many helpful analytics libraries installed\n# It is defined by the kaggle/python docker image: https://github.com/kaggle/docker-python\n# For example, here's several helpful packages to load in \n\nimport numpy as np # linear algebra\nimport pandas as pd # data processing, CSV file I/O (e.g. pd.read_csv)\nimport os\nfrom mpl_toolkits.axes_grid1 import ImageGrid\nfrom sklearn.datasets import load_files       \nfrom keras.utils import np_utils\nfrom glob import glob\n\n# Input data files are available in the \"../input/\" directory.\n# For example, running this (by clicking run or pressing Shift+Enter) will list the files in the input directory\n\nfrom subprocess import check_output\nprint(check_output([\"ls\", \"../input\"]).decode(\"utf8\"))\n\n# Any results you write to the current directory are saved as output.",
      "execution_count": 1,
      "outputs": [
        {
          "name": "stderr",
          "output_type": "stream",
          "text": "Using TensorFlow backend.\n"
        },
        {
          "name": "stdout",
          "output_type": "stream",
          "text": "sample_submission.csv\ntest\ntrain\n\n"
        }
      ]
    },
    {
      "metadata": {
        "_cell_guid": "9dc7c1c9-b5d0-4695-85c8-099163762401",
        "_uuid": "e8750386ecbea7b3a436c68e995b111d2f77898c",
        "collapsed": true,
        "trusted": true
      },
      "cell_type": "code",
      "source": "# define function to load train, test, and validation datasets\ndef load_dataset(path):\n    data = load_files(path)\n    files = np.array(data['filenames'])\n    targets = np_utils.to_categorical(np.array(data['target']), 12)\n    return files, targets",
      "execution_count": 2,
      "outputs": []
    },
    {
      "metadata": {
        "_cell_guid": "276d168d-4e96-4a4d-92a6-dbb2d2c6219a",
        "_uuid": "e16a1e7b059def892f8d73aa0a47efb8b04da5b0",
        "collapsed": true,
        "trusted": true
      },
      "cell_type": "code",
      "source": "def path_to_tensor(img_path):\n    # loads RGB image as PIL.Image.Image type\n    img = image.load_img(img_path, target_size=(256, 256))\n    # convert PIL.Image.Image type to 3D tensor with shape (256, 256 3)\n    x = image.img_to_array(img)\n    # convert 3D tensor to 4D tensor with shape (1, 256, 256 3) and return 4D tensor\n    return np.expand_dims(x, axis=0)\n\ndef paths_to_tensor(img_paths):\n    list_of_tensors = [path_to_tensor(img_path) for img_path in tqdm(img_paths)]\n    return np.vstack(list_of_tensors)",
      "execution_count": 3,
      "outputs": []
    },
    {
      "metadata": {
        "_cell_guid": "a9680315-1f03-44ab-b61e-3df68bd429b6",
        "_uuid": "5d544891e6719f818d8ead6d9f810ae4f93f2d9b",
        "trusted": true,
        "collapsed": true
      },
      "cell_type": "code",
      "source": "from tqdm import tqdm\nfrom keras.layers import *\nfrom keras.models import *\nfrom keras.applications import *\nfrom keras.optimizers import *\nfrom keras.optimizers import Adam\nfrom keras.regularizers import *\nfrom keras.applications.inception_v3 import preprocess_input\nfrom keras.callbacks import EarlyStopping, ModelCheckpoint, ReduceLROnPlateau\nfrom keras.preprocessing import image \nfrom keras.preprocessing.image import ImageDataGenerator\nfrom keras.utils import np_utils",
      "execution_count": 4,
      "outputs": []
    },
    {
      "metadata": {
        "collapsed": true,
        "trusted": true,
        "_uuid": "63d82eb5b4125fb2a700dac6774dd20d532f0879"
      },
      "cell_type": "code",
      "source": "train_dir = '../input/train/'\ntest_dir = '../input/test/'",
      "execution_count": 5,
      "outputs": []
    },
    {
      "metadata": {
        "collapsed": true,
        "trusted": true,
        "_uuid": "19df90bb6126ba8100a775ba6fc6c1d9acd27fa3"
      },
      "cell_type": "code",
      "source": "from os import listdir\nfrom os.path import isfile, join",
      "execution_count": 6,
      "outputs": []
    },
    {
      "metadata": {
        "trusted": true,
        "_uuid": "3c3a9434134f3084ab6b827644c18c08c3674d45"
      },
      "cell_type": "code",
      "source": "labels = listdir(train_dir)\nlabels",
      "execution_count": 7,
      "outputs": [
        {
          "data": {
            "text/plain": "['Sugar beet',\n 'Scentless Mayweed',\n 'Small-flowered Cranesbill',\n 'Fat Hen',\n 'Cleavers',\n 'Common Chickweed',\n 'Maize',\n 'Shepherds Purse',\n 'Black-grass',\n 'Common wheat',\n 'Loose Silky-bent',\n 'Charlock']"
          },
          "execution_count": 7,
          "metadata": {},
          "output_type": "execute_result"
        }
      ]
    },
    {
      "metadata": {
        "collapsed": true,
        "trusted": true,
        "_uuid": "a899ab81ef4af97af42f7c895be86be03514ac77"
      },
      "cell_type": "code",
      "source": "train_files, train_targets = load_dataset(train_dir)",
      "execution_count": 8,
      "outputs": []
    },
    {
      "metadata": {
        "_cell_guid": "28bd75a2-2d8d-4b0e-b5f2-4391297cb7ff",
        "_uuid": "bb7e1302fb7240076c5b5fd80dd0be7ccb962303",
        "trusted": true
      },
      "cell_type": "code",
      "source": "train_tensors = paths_to_tensor(train_files).astype('float32')/255\ntrain_labels = train_targets",
      "execution_count": 9,
      "outputs": [
        {
          "name": "stderr",
          "output_type": "stream",
          "text": "100%|██████████| 4750/4750 [00:53<00:00, 89.00it/s]\n"
        }
      ]
    },
    {
      "metadata": {
        "_cell_guid": "f53717ef-4dc0-4c06-8477-9e14d7a94841",
        "_uuid": "706117066ce2b7946d87a9eec011a7610448c02c",
        "collapsed": true,
        "trusted": true
      },
      "cell_type": "code",
      "source": "from sklearn.metrics import accuracy_score, confusion_matrix, log_loss, f1_score, precision_score, recall_score\nfrom sklearn.model_selection import train_test_split, StratifiedShuffleSplit",
      "execution_count": 10,
      "outputs": []
    },
    {
      "metadata": {
        "_cell_guid": "14b54d36-8401-4e9e-8fe0-582d47fa4e6c",
        "_uuid": "4a242db38d65d8fd97082a8a8eb7b4c685ab6d76",
        "trusted": true
      },
      "cell_type": "code",
      "source": "X_train, X_temp, y_train, y_temp = train_test_split(train_tensors, train_labels, test_size=0.2, random_state=42)\nprint(X_train.shape)\nprint(y_train.shape)\nprint(X_temp.shape)\nprint(y_temp.shape)\n",
      "execution_count": 11,
      "outputs": [
        {
          "name": "stdout",
          "output_type": "stream",
          "text": "(3800, 256, 256, 3)\n(3800, 12)\n(950, 256, 256, 3)\n(950, 12)\n"
        }
      ]
    },
    {
      "metadata": {
        "trusted": true,
        "_uuid": "e5f2dda29bf9f59db11e3263e6212bfbc8385f66"
      },
      "cell_type": "code",
      "source": "X_valid, X_test, y_valid, y_test = train_test_split(X_temp, y_temp, test_size=0.5, random_state=42)\nprint(X_valid.shape)\nprint(y_valid.shape)\nprint(X_test.shape)\n",
      "execution_count": 12,
      "outputs": [
        {
          "name": "stdout",
          "output_type": "stream",
          "text": "(475, 256, 256, 3)\n(475, 12)\n(475, 256, 256, 3)\n"
        }
      ]
    },
    {
      "metadata": {
        "_cell_guid": "5c1e30e5-4aff-47d6-a27b-32442202b328",
        "_uuid": "27747005287ccb28d222390c1a6c4c57f2024f9e",
        "trusted": true
      },
      "cell_type": "code",
      "source": "model = Sequential()\nmodel.add(Conv2D(filters=16, kernel_size=2, padding='same', activation='relu', input_shape=(256, 256, 3)))\nmodel.add(MaxPooling2D(pool_size=2))\nmodel.add(Conv2D(filters=32, kernel_size=2, padding='same', activation='relu'))\nmodel.add(MaxPooling2D(pool_size=2))\nmodel.add(Conv2D(filters=64, kernel_size=2, padding='same', activation='relu'))\nmodel.add(MaxPooling2D(pool_size=2))\nmodel.add(Dropout(0.3))\nmodel.add(Flatten())\nmodel.add(Dense(12, activation='softmax'))\nmodel.summary()",
      "execution_count": 13,
      "outputs": [
        {
          "name": "stdout",
          "output_type": "stream",
          "text": "_________________________________________________________________\nLayer (type)                 Output Shape              Param #   \n=================================================================\nconv2d_1 (Conv2D)            (None, 256, 256, 16)      208       \n_________________________________________________________________\nmax_pooling2d_1 (MaxPooling2 (None, 128, 128, 16)      0         \n_________________________________________________________________\nconv2d_2 (Conv2D)            (None, 128, 128, 32)      2080      \n_________________________________________________________________\nmax_pooling2d_2 (MaxPooling2 (None, 64, 64, 32)        0         \n_________________________________________________________________\nconv2d_3 (Conv2D)            (None, 64, 64, 64)        8256      \n_________________________________________________________________\nmax_pooling2d_3 (MaxPooling2 (None, 32, 32, 64)        0         \n_________________________________________________________________\ndropout_1 (Dropout)          (None, 32, 32, 64)        0         \n_________________________________________________________________\nflatten_1 (Flatten)          (None, 65536)             0         \n_________________________________________________________________\ndense_1 (Dense)              (None, 12)                786444    \n=================================================================\nTotal params: 796,988\nTrainable params: 796,988\nNon-trainable params: 0\n_________________________________________________________________\n"
        }
      ]
    },
    {
      "metadata": {
        "_cell_guid": "063aa2a7-6bca-4b43-a0ec-776c9fdbd502",
        "_uuid": "d2b6891192e38ca01d210a98adf467bf44312381",
        "collapsed": true,
        "trusted": true
      },
      "cell_type": "code",
      "source": "model.compile(optimizer=RMSprop(), loss='categorical_crossentropy',metrics=['accuracy'])",
      "execution_count": 14,
      "outputs": []
    },
    {
      "metadata": {
        "_cell_guid": "a9f2875a-de50-4ae5-8866-465abd639479",
        "_uuid": "64834a8cc70dc1b21dbc0c4840b0340f604d1451",
        "collapsed": true,
        "trusted": true
      },
      "cell_type": "code",
      "source": "def get_callbacks(filepath, patience=2):\n    es = EarlyStopping('val_loss', patience=patience, mode=\"min\")\n    msave = ModelCheckpoint(filepath, save_best_only=True)\n    return [es, msave]\nfile_path = \"weights.model_rmsprop.hdf5\"\ncallbacks = get_callbacks(filepath=file_path, patience=5)\n\ncheckpointer = ModelCheckpoint(filepath='weights.model_rmsprop.hdf5', \n                           verbose=1, save_best_only=True)",
      "execution_count": 15,
      "outputs": []
    },
    {
      "metadata": {
        "_cell_guid": "d2b8d6b8-1dc6-45a9-9d60-2d91d62a3f1a",
        "_uuid": "9b9fd1bcf3880f27ef40cec27002599ecb5f1004",
        "trusted": true
      },
      "cell_type": "code",
      "source": "model.fit(X_train, y_train, \n          validation_data=(X_valid, y_valid),\n          epochs=5, batch_size=30, callbacks=callbacks, verbose=1)",
      "execution_count": 16,
      "outputs": [
        {
          "name": "stdout",
          "output_type": "stream",
          "text": "Train on 3800 samples, validate on 475 samples\nEpoch 1/5\n3800/3800 [==============================] - 143s 38ms/step - loss: 1.8630 - acc: 0.3634 - val_loss: 1.5010 - val_acc: 0.4905\nEpoch 2/5\n3800/3800 [==============================] - 144s 38ms/step - loss: 1.2005 - acc: 0.5887 - val_loss: 1.1782 - val_acc: 0.6400\nEpoch 3/5\n3800/3800 [==============================] - 139s 37ms/step - loss: 0.9246 - acc: 0.6953 - val_loss: 1.5156 - val_acc: 0.5095\nEpoch 4/5\n3800/3800 [==============================] - 139s 37ms/step - loss: 0.7181 - acc: 0.7621 - val_loss: 1.2832 - val_acc: 0.6337\nEpoch 5/5\n3800/3800 [==============================] - 140s 37ms/step - loss: 0.5550 - acc: 0.8213 - val_loss: 1.0835 - val_acc: 0.6842\n"
        },
        {
          "data": {
            "text/plain": "<keras.callbacks.History at 0x7fe10f3ca198>"
          },
          "execution_count": 16,
          "metadata": {},
          "output_type": "execute_result"
        }
      ]
    },
    {
      "metadata": {
        "_cell_guid": "645c3d8b-a98b-47fd-ae9c-675e88bd5996",
        "_uuid": "ee082f55284b6918727a63a405687803655c9eb1",
        "trusted": true
      },
      "cell_type": "code",
      "source": "model.load_weights('weights.model_rmsprop.hdf5')\npredictions = [np.argmax(model.predict(np.expand_dims(feature, axis=0))) \n               for feature in X_test]\n\ntest_list = y_test.argmax(axis=1)\n\nprint(f1_score(test_list, predictions, average='weighted')) \nprint(accuracy_score(test_list,predictions))",
      "execution_count": 22,
      "outputs": [
        {
          "output_type": "stream",
          "text": "0.65759900889\n0.665263157895\n",
          "name": "stdout"
        }
      ]
    },
    {
      "metadata": {
        "trusted": true,
        "_uuid": "95ac8d5b4e8c350de40e5de84a5a9754c3ad3868"
      },
      "cell_type": "code",
      "source": "print(\"hello\")",
      "execution_count": 21,
      "outputs": [
        {
          "output_type": "stream",
          "text": "hello\n",
          "name": "stdout"
        }
      ]
    },
    {
      "metadata": {
        "collapsed": true,
        "trusted": true,
        "_uuid": "6d2d24ceeee47fbecd6ab566a5a09346a61ad487"
      },
      "cell_type": "code",
      "source": "",
      "execution_count": null,
      "outputs": []
    }
  ],
  "metadata": {
    "kernelspec": {
      "display_name": "Python 3",
      "language": "python",
      "name": "python3"
    },
    "language_info": {
      "name": "python",
      "version": "3.6.4",
      "mimetype": "text/x-python",
      "codemirror_mode": {
        "name": "ipython",
        "version": 3
      },
      "pygments_lexer": "ipython3",
      "nbconvert_exporter": "python",
      "file_extension": ".py"
    }
  },
  "nbformat": 4,
  "nbformat_minor": 1
}